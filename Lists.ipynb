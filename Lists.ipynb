{
  "cells": [
    {
      "cell_type": "markdown",
      "metadata": {
        "id": "view-in-github",
        "colab_type": "text"
      },
      "source": [
        "<a href=\"https://colab.research.google.com/github/vanditasharma777/PYTHON_Programming/blob/main/Lists.ipynb\" target=\"_parent\"><img src=\"https://colab.research.google.com/assets/colab-badge.svg\" alt=\"Open In Colab\"/></a>"
      ]
    },
    {
      "cell_type": "code",
      "execution_count": 17,
      "metadata": {
        "colab": {
          "base_uri": "https://localhost:8080/"
        },
        "id": "vdO8xqYiSSVJ",
        "outputId": "2e767ecd-00f6-4db6-f31c-92940a7421ec"
      },
      "outputs": [
        {
          "output_type": "execute_result",
          "data": {
            "text/plain": [
              "['os', 'coa', 'dbms']"
            ]
          },
          "metadata": {},
          "execution_count": 17
        }
      ],
      "source": [
        "#create a list\n",
        "sub = ['os','coa', 'dbms']\n",
        "sub"
      ]
    },
    {
      "cell_type": "code",
      "execution_count": 18,
      "metadata": {
        "colab": {
          "base_uri": "https://localhost:8080/"
        },
        "id": "pfji-6HFSSVP",
        "outputId": "d3594d96-fec0-42cb-ee33-66c8895fb3de"
      },
      "outputs": [
        {
          "output_type": "execute_result",
          "data": {
            "text/plain": [
              "['os', 'toc', 'coa', 'dbms']"
            ]
          },
          "metadata": {},
          "execution_count": 18
        }
      ],
      "source": [
        "#insert\n",
        "sub.insert(1, 'toc')\n",
        "sub"
      ]
    },
    {
      "cell_type": "code",
      "execution_count": 19,
      "metadata": {
        "colab": {
          "base_uri": "https://localhost:8080/"
        },
        "id": "g7uagDIfSSVQ",
        "outputId": "10eeb3b5-3019-44cf-c5e4-4050d77eada0"
      },
      "outputs": [
        {
          "output_type": "stream",
          "name": "stdout",
          "text": [
            "['c', 'c++', 'python', 'java', 'kotlin']\n",
            "['os', 'toc', 'coa', 'dbms', 'c', 'c++', 'python', 'java', 'kotlin']\n"
          ]
        }
      ],
      "source": [
        "lang = ['c','c++', 'python','java','kotlin']\n",
        "# extend\n",
        "sub.extend(lang)\n",
        "print(lang)\n",
        "print(sub)"
      ]
    },
    {
      "cell_type": "code",
      "execution_count": 20,
      "metadata": {
        "colab": {
          "base_uri": "https://localhost:8080/"
        },
        "id": "vFD_gV1USSVR",
        "outputId": "138dbe79-7e46-47d3-e44e-f399e33d53cb"
      },
      "outputs": [
        {
          "output_type": "execute_result",
          "data": {
            "text/plain": [
              "['os', 'toc', 'coa', 'dbms', 'c', 'c++', 'python', 'java']"
            ]
          },
          "metadata": {},
          "execution_count": 20
        }
      ],
      "source": [
        "# Remove\n",
        "sub.remove('kotlin')\n",
        "sub"
      ]
    },
    {
      "cell_type": "code",
      "execution_count": 21,
      "metadata": {
        "colab": {
          "base_uri": "https://localhost:8080/"
        },
        "id": "mLVkLgmRSSVS",
        "outputId": "69baf745-afd3-4386-9701-c750b8c33c41"
      },
      "outputs": [
        {
          "output_type": "execute_result",
          "data": {
            "text/plain": [
              "['java', 'python', 'c++', 'c', 'dbms', 'coa', 'toc', 'os']"
            ]
          },
          "metadata": {},
          "execution_count": 21
        }
      ],
      "source": [
        "#reverse\n",
        "sub.reverse()\n",
        "sub"
      ]
    },
    {
      "cell_type": "code",
      "execution_count": 22,
      "metadata": {
        "colab": {
          "base_uri": "https://localhost:8080/"
        },
        "id": "iIXzze7vSSVT",
        "outputId": "482094cd-ca05-478a-ab5e-1ddd4178c09f"
      },
      "outputs": [
        {
          "output_type": "execute_result",
          "data": {
            "text/plain": [
              "['java', 'python', 'c++', 'c', 'dbms', 'coa', 'toc', 'os', 'AI', 'ML']"
            ]
          },
          "metadata": {},
          "execution_count": 22
        }
      ],
      "source": [
        "#concatenation\n",
        "tech=['AI','ML']\n",
        "sub + tech"
      ]
    },
    {
      "cell_type": "code",
      "execution_count": 23,
      "metadata": {
        "colab": {
          "base_uri": "https://localhost:8080/"
        },
        "id": "WimvHggFSSVT",
        "outputId": "544c168e-5a16-4eb0-eec2-aac8a4dd7d5a"
      },
      "outputs": [
        {
          "output_type": "stream",
          "name": "stdout",
          "text": [
            "['java', 'python', 'c++', 'c', 'dbms', 'coa', 'toc', 'os', 'java', 'python', 'c++', 'c', 'dbms', 'coa', 'toc', 'os']\n"
          ]
        }
      ],
      "source": [
        "#repitition\n",
        "print(sub*2)\n"
      ]
    },
    {
      "cell_type": "code",
      "execution_count": 24,
      "metadata": {
        "colab": {
          "base_uri": "https://localhost:8080/"
        },
        "id": "14WNVFSaSSVV",
        "outputId": "f00a40dc-c149-4f59-ba1e-834635008e74"
      },
      "outputs": [
        {
          "output_type": "stream",
          "name": "stdout",
          "text": [
            "['apple', 'mango', 'cherry', 'guava']\n"
          ]
        }
      ],
      "source": [
        "Fruits = ['apple', 'mango', 'cherry','guava']\n",
        "print(Fruits)"
      ]
    },
    {
      "cell_type": "code",
      "source": [
        "Fruits.clear()\n",
        "print(Fruits)"
      ],
      "metadata": {
        "colab": {
          "base_uri": "https://localhost:8080/"
        },
        "id": "K65KNQxBTQTl",
        "outputId": "108727a1-2f7f-4e3e-eb89-c9ee05965b1f"
      },
      "execution_count": 25,
      "outputs": [
        {
          "output_type": "stream",
          "name": "stdout",
          "text": [
            "[]\n"
          ]
        }
      ]
    },
    {
      "cell_type": "code",
      "source": [
        "Fruits = ['apple', 'mango', 'cherry','guava']\n",
        "type(Fruits)"
      ],
      "metadata": {
        "colab": {
          "base_uri": "https://localhost:8080/"
        },
        "id": "HxEOGvfaTW9s",
        "outputId": "c3ad3262-4b7a-4f07-cbe8-bd3320bda042"
      },
      "execution_count": 26,
      "outputs": [
        {
          "output_type": "execute_result",
          "data": {
            "text/plain": [
              "list"
            ]
          },
          "metadata": {},
          "execution_count": 26
        }
      ]
    },
    {
      "cell_type": "markdown",
      "source": [
        "Deleting Element from list."
      ],
      "metadata": {
        "id": "yvv3KocvWzSX"
      }
    },
    {
      "cell_type": "code",
      "source": [
        "Fruits.remove('mango')\n",
        "print(Fruits)"
      ],
      "metadata": {
        "colab": {
          "base_uri": "https://localhost:8080/"
        },
        "id": "IClJPgVBT6wg",
        "outputId": "333406b5-cbcd-4eba-c821-ef122e2d0cfb"
      },
      "execution_count": 27,
      "outputs": [
        {
          "output_type": "stream",
          "name": "stdout",
          "text": [
            "['apple', 'cherry', 'guava']\n"
          ]
        }
      ]
    },
    {
      "cell_type": "code",
      "source": [
        "#The pop() method removes the specified index.\n",
        "Fruits.pop(2)\n",
        "print(Fruits)"
      ],
      "metadata": {
        "colab": {
          "base_uri": "https://localhost:8080/"
        },
        "id": "YsOCfJE2WkwE",
        "outputId": "748ee1ae-7960-4f1f-92bf-7f7444467b63"
      },
      "execution_count": 28,
      "outputs": [
        {
          "output_type": "stream",
          "name": "stdout",
          "text": [
            "['apple', 'cherry']\n"
          ]
        }
      ]
    },
    {
      "cell_type": "code",
      "source": [
        "# Deleting Last element\n",
        "Fruits.pop()\n",
        "print(Fruits)"
      ],
      "metadata": {
        "colab": {
          "base_uri": "https://localhost:8080/"
        },
        "id": "u5ZG_aC7W9Wq",
        "outputId": "77f9f11a-2691-4273-b629-c2167405363e"
      },
      "execution_count": 29,
      "outputs": [
        {
          "output_type": "stream",
          "name": "stdout",
          "text": [
            "['apple']\n"
          ]
        }
      ]
    },
    {
      "cell_type": "code",
      "source": [
        "#The del keyword can also delete the list completely.\n",
        "del Fruits\n",
        "print(Fruits)"
      ],
      "metadata": {
        "colab": {
          "base_uri": "https://localhost:8080/",
          "height": 200
        },
        "id": "wJZNy_frbUT9",
        "outputId": "a4b81f6b-441c-4375-9dba-78c62bcbc313"
      },
      "execution_count": 30,
      "outputs": [
        {
          "output_type": "error",
          "ename": "NameError",
          "evalue": "ignored",
          "traceback": [
            "\u001b[0;31m---------------------------------------------------------------------------\u001b[0m",
            "\u001b[0;31mNameError\u001b[0m                                 Traceback (most recent call last)",
            "\u001b[0;32m<ipython-input-30-72f6f91017dc>\u001b[0m in \u001b[0;36m<module>\u001b[0;34m\u001b[0m\n\u001b[1;32m      1\u001b[0m \u001b[0;31m#The del keyword can also delete the list completely.\u001b[0m\u001b[0;34m\u001b[0m\u001b[0;34m\u001b[0m\u001b[0;34m\u001b[0m\u001b[0m\n\u001b[1;32m      2\u001b[0m \u001b[0;32mdel\u001b[0m \u001b[0mFruits\u001b[0m\u001b[0;34m\u001b[0m\u001b[0;34m\u001b[0m\u001b[0m\n\u001b[0;32m----> 3\u001b[0;31m \u001b[0mprint\u001b[0m\u001b[0;34m(\u001b[0m\u001b[0mFruits\u001b[0m\u001b[0;34m)\u001b[0m\u001b[0;34m\u001b[0m\u001b[0;34m\u001b[0m\u001b[0m\n\u001b[0m",
            "\u001b[0;31mNameError\u001b[0m: name 'Fruits' is not defined"
          ]
        }
      ]
    },
    {
      "cell_type": "markdown",
      "source": [
        "this will cause an error because you have succsesfully deleted \"thislist\".\n"
      ],
      "metadata": {
        "id": "W_5K0L_4cFSv"
      }
    },
    {
      "cell_type": "markdown",
      "source": [
        "Count Method counts the number of an item in a list"
      ],
      "metadata": {
        "id": "qJxrM1Cucw0C"
      }
    },
    {
      "cell_type": "code",
      "source": [
        "Fruits = ['apple', 'mango', 'cherry','guava','apple']\n",
        "x = Fruits.count('apple')\n",
        "print(x)"
      ],
      "metadata": {
        "colab": {
          "base_uri": "https://localhost:8080/"
        },
        "id": "5gz4RqeebnOZ",
        "outputId": "01be4271-760c-441c-b7da-9d0ad5888708"
      },
      "execution_count": 32,
      "outputs": [
        {
          "output_type": "stream",
          "name": "stdout",
          "text": [
            "2\n"
          ]
        }
      ]
    },
    {
      "cell_type": "markdown",
      "source": [
        "Index method return the index of the list element "
      ],
      "metadata": {
        "id": "Xy9AnWb3kR-q"
      }
    },
    {
      "cell_type": "code",
      "source": [
        "y = Fruits.index(\"guava\")\n",
        "print(y)"
      ],
      "metadata": {
        "colab": {
          "base_uri": "https://localhost:8080/"
        },
        "id": "2mKJjrSQkRoJ",
        "outputId": "a23f9856-2364-4d7a-926d-8f880db3e4b2"
      },
      "execution_count": 37,
      "outputs": [
        {
          "output_type": "stream",
          "name": "stdout",
          "text": [
            "1\n"
          ]
        }
      ]
    },
    {
      "cell_type": "code",
      "source": [
        "Fruits.reverse()\n",
        "print(Fruits)"
      ],
      "metadata": {
        "colab": {
          "base_uri": "https://localhost:8080/"
        },
        "id": "_F0LRK0xk0Ie",
        "outputId": "ece16f78-d9ed-471f-af4a-dbbd38930818"
      },
      "execution_count": 36,
      "outputs": [
        {
          "output_type": "stream",
          "name": "stdout",
          "text": [
            "['mango', 'guava', 'cherry', 'apple', 'apple']\n"
          ]
        }
      ]
    },
    {
      "cell_type": "code",
      "source": [
        "Fruits.sort()\n",
        "print(Fruits)"
      ],
      "metadata": {
        "colab": {
          "base_uri": "https://localhost:8080/"
        },
        "id": "3BpVOMCak6JR",
        "outputId": "3d56739b-55bd-4a52-c649-afaa2cc98827"
      },
      "execution_count": 35,
      "outputs": [
        {
          "output_type": "stream",
          "name": "stdout",
          "text": [
            "['apple', 'apple', 'cherry', 'guava', 'mango']\n"
          ]
        }
      ]
    }
  ],
  "metadata": {
    "kernelspec": {
      "display_name": "Python 3",
      "language": "python",
      "name": "python3"
    },
    "language_info": {
      "codemirror_mode": {
        "name": "ipython",
        "version": 3
      },
      "file_extension": ".py",
      "mimetype": "text/x-python",
      "name": "python",
      "nbconvert_exporter": "python",
      "pygments_lexer": "ipython3",
      "version": "3.6.5"
    },
    "colab": {
      "provenance": [],
      "include_colab_link": true
    }
  },
  "nbformat": 4,
  "nbformat_minor": 0
}