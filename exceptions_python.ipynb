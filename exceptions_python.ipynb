{
  "nbformat": 4,
  "nbformat_minor": 0,
  "metadata": {
    "colab": {
      "provenance": [],
      "authorship_tag": "ABX9TyOr19xWvyfcMCYUaoY5dzfz",
      "include_colab_link": true
    },
    "kernelspec": {
      "name": "python3",
      "display_name": "Python 3"
    },
    "language_info": {
      "name": "python"
    }
  },
  "cells": [
    {
      "cell_type": "markdown",
      "metadata": {
        "id": "view-in-github",
        "colab_type": "text"
      },
      "source": [
        "<a href=\"https://colab.research.google.com/github/vanditasharma777/PYTHON_Programming/blob/main/exceptions_python.ipynb\" target=\"_parent\"><img src=\"https://colab.research.google.com/assets/colab-badge.svg\" alt=\"Open In Colab\"/></a>"
      ]
    },
    {
      "cell_type": "code",
      "execution_count": 21,
      "metadata": {
        "colab": {
          "base_uri": "https://localhost:8080/"
        },
        "id": "cYi0ew5IPn8x",
        "outputId": "6fdabd55-7464-4425-c1f7-a8c3604f199d"
      },
      "outputs": [
        {
          "output_type": "stream",
          "name": "stdout",
          "text": [
            "Enter a number greater than 0:7\n",
            "You entered:  7\n"
          ]
        }
      ],
      "source": [
        "a=int(input('Enter a number greater than 0:'))\n",
        "try:\n",
        "    assert a>0\n",
        "    print('You entered: ',a)\n",
        "except AssertionError:\n",
        "    print(\"Wrong input entered\")"
      ]
    },
    {
      "cell_type": "code",
      "source": [
        "a=int(input('Enter a number greater than 10:'))\n",
        "try:\n",
        "    assert a>10\n",
        "    print(\"Right input entered\")\n",
        "except AssertionError:\n",
        "    print(\"Wrong input entered\")"
      ],
      "metadata": {
        "colab": {
          "base_uri": "https://localhost:8080/"
        },
        "id": "dS27X24MPvrZ",
        "outputId": "e3714f82-9b18-4d40-f12d-53d498ccb9f6"
      },
      "execution_count": 22,
      "outputs": [
        {
          "output_type": "stream",
          "name": "stdout",
          "text": [
            "Enter a number greater than 10:8\n",
            "Wrong input entered\n"
          ]
        }
      ]
    },
    {
      "cell_type": "code",
      "source": [
        "x=int(input('Enter a number greater than 0:'))\n",
        "try:\n",
        "    y=1/x\n",
        "    assert a>0\n",
        "    print(\"Right input entered\")\n",
        "except AssertionError:\n",
        "    print(\"Wrong input entered\")\n",
        "finally:\n",
        "    print(\"We are not catching the exception.\")\n",
        "print(\"The inverse is :\",y)"
      ],
      "metadata": {
        "colab": {
          "base_uri": "https://localhost:8080/"
        },
        "id": "C6vwi_y3P5-u",
        "outputId": "91a15cbd-965f-4502-df3b-f9c45a043a2b"
      },
      "execution_count": 23,
      "outputs": [
        {
          "output_type": "stream",
          "name": "stdout",
          "text": [
            "Enter a number greater than 0:6\n",
            "Right input entered\n",
            "We are not catching the exception.\n",
            "The inverse is : 0.16666666666666666\n"
          ]
        }
      ]
    },
    {
      "cell_type": "code",
      "source": [
        "def divide(x, y): \n",
        "    try: \n",
        "        # Floor Division : Gives only Fractional Part as Answer \n",
        "        result = x // y\n",
        "        print(\"Yeah ! Your answer is :\", result) \n",
        "    except ZeroDivisionError: \n",
        "        print(\"Sorry ! You are dividing by zero \") \n",
        "    finally:\n",
        "      print(\"Exception caught.!\")\n",
        "divide(8,0)"
      ],
      "metadata": {
        "colab": {
          "base_uri": "https://localhost:8080/"
        },
        "id": "xXNi2g6lQdGa",
        "outputId": "a5bc6fb0-3018-4d32-fdb4-8a5eab3cd469"
      },
      "execution_count": 24,
      "outputs": [
        {
          "output_type": "stream",
          "name": "stdout",
          "text": [
            "Sorry ! You are dividing by zero \n",
            "Exception caught.!\n"
          ]
        }
      ]
    },
    {
      "cell_type": "code",
      "source": [
        "a=int(input(\"Enter a valid no other than 0: \"))\n",
        "try:\n",
        "  x=1/a\n",
        "  print(x)\n",
        "except:\n",
        "  print(\"Invalid number\")"
      ],
      "metadata": {
        "colab": {
          "base_uri": "https://localhost:8080/"
        },
        "id": "qyAk1xX-QIRI",
        "outputId": "2190ef56-1906-4d57-ab84-fd98aff0ea71"
      },
      "execution_count": 27,
      "outputs": [
        {
          "output_type": "stream",
          "name": "stdout",
          "text": [
            "Enter a valid no other than 0: 9\n",
            "0.1111111111111111\n"
          ]
        }
      ]
    }
  ]
}