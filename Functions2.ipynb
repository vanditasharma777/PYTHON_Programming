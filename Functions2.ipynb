{
  "cells": [
    {
      "cell_type": "markdown",
      "metadata": {
        "id": "view-in-github",
        "colab_type": "text"
      },
      "source": [
        "<a href=\"https://colab.research.google.com/github/vanditasharma777/PYTHON_Programming/blob/main/Functions2.ipynb\" target=\"_parent\"><img src=\"https://colab.research.google.com/assets/colab-badge.svg\" alt=\"Open In Colab\"/></a>"
      ]
    },
    {
      "cell_type": "markdown",
      "metadata": {
        "id": "cghemiUrK_hc"
      },
      "source": [
        "Defining a Function"
      ]
    },
    {
      "cell_type": "code",
      "execution_count": null,
      "metadata": {
        "colab": {
          "base_uri": "https://localhost:8080/"
        },
        "id": "4aO_sxYcrKGu",
        "outputId": "3211f04e-76ac-4c71-8bd3-45841be57e54"
      },
      "outputs": [
        {
          "name": "stdout",
          "output_type": "stream",
          "text": [
            "Hello!\n"
          ]
        }
      ],
      "source": [
        "def greet_user():\n",
        "  \"\"\"Display a simple greeting.\"\"\"\n",
        "print(\"Hello!\")\n",
        " \n",
        "greet_user()"
      ]
    },
    {
      "cell_type": "markdown",
      "metadata": {
        "id": "vj9vMgv8LD9Y"
      },
      "source": [
        "Passing Information to a Function"
      ]
    },
    {
      "cell_type": "code",
      "execution_count": null,
      "metadata": {
        "colab": {
          "base_uri": "https://localhost:8080/"
        },
        "id": "kfZilAFZrlmk",
        "outputId": "58a07fb4-ff52-4a1c-8931-ed8ce4c66102"
      },
      "outputs": [
        {
          "name": "stdout",
          "output_type": "stream",
          "text": [
            "Hello, Jesse!\n"
          ]
        }
      ],
      "source": [
        "def greet_user(username):\n",
        " \"\"\"Display a simple greeting.\"\"\"\n",
        " print(f\"Hello, {username.title()}!\")\n",
        " \n",
        "greet_user('jesse')"
      ]
    },
    {
      "cell_type": "markdown",
      "metadata": {
        "id": "PJ_xs2LZK2a6"
      },
      "source": [
        "Write a function called display_message() that prints one sen\u0002tence telling everyone what you are learning about in this chapter. Call the \n",
        "function, and make sure the message displays correctly.**bold text**"
      ]
    },
    {
      "cell_type": "code",
      "execution_count": null,
      "metadata": {
        "colab": {
          "base_uri": "https://localhost:8080/"
        },
        "id": "sx-lb3kir1Ey",
        "outputId": "f138659f-d454-4c0c-e3ba-8b8c6f7ccb65"
      },
      "outputs": [
        {
          "name": "stdout",
          "output_type": "stream",
          "text": [
            "We are learning about functions\n"
          ]
        }
      ],
      "source": [
        "def display_message():\n",
        "   \"\"\" About\"\"\"\n",
        "   print(\"We are learning about functions\")\n",
        "display_message()   \n",
        "  "
      ]
    },
    {
      "cell_type": "markdown",
      "metadata": {
        "id": "ErhlLM9lLX0p"
      },
      "source": [
        "Write a function called favorite_book() that accepts one \n",
        "parameter, title. The function should print a message, such as One of my \n",
        "favorite books is Alice in Wonderland. Call the function, making sure to \n",
        "include a book title as an argument in the function call."
      ]
    },
    {
      "cell_type": "code",
      "execution_count": null,
      "metadata": {
        "colab": {
          "base_uri": "https://localhost:8080/"
        },
        "id": "Q3URgR9W5JsN",
        "outputId": "4a53dad8-aa19-4a66-a600-172bfeeae9f3"
      },
      "outputs": [
        {
          "name": "stdout",
          "output_type": "stream",
          "text": [
            "One of my favourite book is, Alice in wonderland.\n"
          ]
        }
      ],
      "source": [
        "def favourite_book(bname):\n",
        "    \"\"\"Favourite book.\"\"\"\n",
        "    print(f\"One of my favourite book is, {bname.title()} in wonderland.\")\n",
        "\n",
        "favourite_book('Alice')"
      ]
    },
    {
      "cell_type": "markdown",
      "metadata": {
        "id": "g5wbaShhKt7e"
      },
      "source": [
        "Positional Arguments"
      ]
    },
    {
      "cell_type": "code",
      "execution_count": null,
      "metadata": {
        "colab": {
          "base_uri": "https://localhost:8080/"
        },
        "id": "sx4vwRlV9V-H",
        "outputId": "984310af-8d1a-4684-85f3-29050db4d80e"
      },
      "outputs": [
        {
          "name": "stdout",
          "output_type": "stream",
          "text": [
            "\n",
            "I have a hamster.\n",
            "My hamster's name is Harry.\n"
          ]
        }
      ],
      "source": [
        "def describe_pet(animal_type, pet_name):\n",
        " \"\"\"Display information about a pet.\"\"\"\n",
        " print(f\"\\nI have a {animal_type}.\")\n",
        " print(f\"My {animal_type}'s name is {pet_name.title()}.\")\n",
        " \n",
        "describe_pet('hamster', 'harry')"
      ]
    },
    {
      "cell_type": "markdown",
      "metadata": {
        "id": "lxTSemYUKmnZ"
      },
      "source": [
        "Multiple Function Calls"
      ]
    },
    {
      "cell_type": "code",
      "execution_count": null,
      "metadata": {
        "colab": {
          "base_uri": "https://localhost:8080/"
        },
        "id": "PMxc7AlcKNw4",
        "outputId": "e4beaf80-3ff4-429a-c046-16ee401ac836"
      },
      "outputs": [
        {
          "name": "stdout",
          "output_type": "stream",
          "text": [
            "\n",
            "I have a hamster.\n",
            "My hamster's name is Harry.\n",
            "\n",
            "I have a dog.\n",
            "My dog's name is Willie.\n"
          ]
        }
      ],
      "source": [
        "def describe_pet(animal_type, pet_name):\n",
        " \"\"\"Display information about a pet.\"\"\"\n",
        " print(f\"\\nI have a {animal_type}.\")\n",
        " print(f\"My {animal_type}'s name is {pet_name.title()}.\")\n",
        " \n",
        "describe_pet('hamster', 'harry')\n",
        "describe_pet('dog', 'willie')"
      ]
    },
    {
      "cell_type": "markdown",
      "metadata": {
        "id": "cYbXdvg4LvnW"
      },
      "source": [
        "Order Matters in Positional Arguments"
      ]
    },
    {
      "cell_type": "code",
      "execution_count": null,
      "metadata": {
        "colab": {
          "base_uri": "https://localhost:8080/"
        },
        "id": "cpOfZbByKfPm",
        "outputId": "b0806efd-f6f4-42c8-eac1-d4a1ffab60f6"
      },
      "outputs": [
        {
          "name": "stdout",
          "output_type": "stream",
          "text": [
            "\n",
            "I have a harry.\n",
            "My harry's name is Hamster.\n"
          ]
        }
      ],
      "source": [
        "def describe_pet(animal_type, pet_name):\n",
        " \"\"\"Display information about a pet.\"\"\"\n",
        " print(f\"\\nI have a {animal_type}.\")\n",
        " print(f\"My {animal_type}'s name is {pet_name.title()}.\")\n",
        " \n",
        "describe_pet('harry', 'hamster')"
      ]
    },
    {
      "cell_type": "markdown",
      "metadata": {
        "id": "A9BZivefL90D"
      },
      "source": [
        "Keyword Arguments"
      ]
    },
    {
      "cell_type": "code",
      "execution_count": null,
      "metadata": {
        "colab": {
          "base_uri": "https://localhost:8080/"
        },
        "id": "GogVXUenMDem",
        "outputId": "89e23c68-2db1-4c73-f52e-5c0701764999"
      },
      "outputs": [
        {
          "name": "stdout",
          "output_type": "stream",
          "text": [
            "\n",
            "I have a hamster.\n",
            "My hamster's name is Harry.\n"
          ]
        }
      ],
      "source": [
        "def describe_pet(animal_type, pet_name):\n",
        " \"\"\"Display information about a pet.\"\"\"\n",
        " print(f\"\\nI have a {animal_type}.\")\n",
        " print(f\"My {animal_type}'s name is {pet_name.title()}.\")\n",
        " \n",
        "describe_pet(animal_type='hamster', pet_name='harry')"
      ]
    },
    {
      "cell_type": "markdown",
      "metadata": {
        "id": "3hvEPMXuMftb"
      },
      "source": [
        "Order of argument doesn't matters if we are passing keyword arguments.below both function calls are equivalent."
      ]
    },
    {
      "cell_type": "code",
      "execution_count": null,
      "metadata": {
        "colab": {
          "base_uri": "https://localhost:8080/"
        },
        "id": "UGNPuzfgMRmJ",
        "outputId": "c73bd034-e4ca-4ff9-e939-d689c4014720"
      },
      "outputs": [
        {
          "name": "stdout",
          "output_type": "stream",
          "text": [
            "\n",
            "I have a hamster.\n",
            "My hamster's name is Harry.\n",
            "\n",
            "I have a hamster.\n",
            "My hamster's name is Harry.\n"
          ]
        }
      ],
      "source": [
        "def describe_pet(animal_type, pet_name):\n",
        " \"\"\"Display information about a pet.\"\"\"\n",
        " print(f\"\\nI have a {animal_type}.\")\n",
        " print(f\"My {animal_type}'s name is {pet_name.title()}.\")\n",
        " \n",
        "describe_pet(animal_type='hamster', pet_name='harry')\n",
        "describe_pet(pet_name='harry', animal_type='hamster')"
      ]
    },
    {
      "cell_type": "markdown",
      "metadata": {
        "id": "wqPzt4yZNJVE"
      },
      "source": [
        "Default Values\n",
        "\n",
        " \n",
        "When you use default values, any parameter with a default value needs to be listed \n",
        "after all the parameters that don’t have default values. This allows Python to con\u0002tinue interpreting positional arguments correctly \n"
      ]
    },
    {
      "cell_type": "code",
      "execution_count": null,
      "metadata": {
        "colab": {
          "base_uri": "https://localhost:8080/"
        },
        "id": "x2BHC4AiNLNY",
        "outputId": "9607b09d-9342-4004-de83-7af7af95f521"
      },
      "outputs": [
        {
          "name": "stdout",
          "output_type": "stream",
          "text": [
            "\n",
            "I have a dog.\n",
            "My dog's name is Willie.\n",
            "\n",
            "I have a hamster.\n",
            "My hamster's name is Harry.\n"
          ]
        }
      ],
      "source": [
        "def describe_pet(pet_name, animal_type='dog'):\n",
        " \"\"\"Display information about a pet.\"\"\"\n",
        " print(f\"\\nI have a {animal_type}.\")\n",
        " print(f\"My {animal_type}'s name is {pet_name.title()}.\")\n",
        "\n",
        "describe_pet(pet_name='willie')\n",
        "describe_pet(pet_name='harry', animal_type='hamster') # we can also pass other values."
      ]
    },
    {
      "cell_type": "markdown",
      "metadata": {
        "id": "guDZhBHDOI7Q"
      },
      "source": [
        "Equivalent Function Calls\n",
        "\n",
        "It doesn’t really matter which calling style you use. As long as your function calls pro\u0002duce the output you want, just use the style you find easiest to understand."
      ]
    },
    {
      "cell_type": "code",
      "execution_count": null,
      "metadata": {
        "colab": {
          "base_uri": "https://localhost:8080/"
        },
        "id": "jP40UtiuN58_",
        "outputId": "330141ac-3be7-4feb-9d60-569d06ce8a4a"
      },
      "outputs": [
        {
          "name": "stdout",
          "output_type": "stream",
          "text": [
            "\n",
            "I have a dog.\n",
            "My dog's name is Willie.\n",
            "\n",
            "I have a dog.\n",
            "My dog's name is Willie.\n"
          ]
        }
      ],
      "source": [
        "def describe_pet(pet_name, animal_type='dog'):\n",
        "  \"\"\"Display information about a pet.\"\"\"\n",
        "  print(f\"\\nI have a {animal_type}.\")\n",
        "  print(f\"My {animal_type}'s name is {pet_name.title()}.\")\n",
        "\n",
        "  # A dog named Willie.\n",
        "describe_pet('willie')\n",
        "describe_pet(pet_name='willie')\n"
      ]
    },
    {
      "cell_type": "code",
      "execution_count": null,
      "metadata": {
        "colab": {
          "base_uri": "https://localhost:8080/"
        },
        "id": "_6spXF0ePIBo",
        "outputId": "6154cfd3-c287-4481-edb0-3797d51d7641"
      },
      "outputs": [
        {
          "name": "stdout",
          "output_type": "stream",
          "text": [
            "\n",
            "I have a hamster.\n",
            "My hamster's name is Harry.\n",
            "\n",
            "I have a hamster.\n",
            "My hamster's name is Harry.\n",
            "\n",
            "I have a hamster.\n",
            "My hamster's name is Harry.\n"
          ]
        }
      ],
      "source": [
        "def describe_pet(pet_name, animal_type='dog'):\n",
        "  \"\"\"Display information about a pet.\"\"\"\n",
        "  print(f\"\\nI have a {animal_type}.\")\n",
        "  print(f\"My {animal_type}'s name is {pet_name.title()}.\")\n",
        "# A hamster named Harry.\n",
        "describe_pet('harry', 'hamster')\n",
        "describe_pet(pet_name='harry', animal_type='hamster')\n",
        "describe_pet(animal_type='hamster', pet_name='harry')"
      ]
    },
    {
      "cell_type": "markdown",
      "metadata": {
        "id": "TzcsxC9tQlB0"
      },
      "source": [
        "Avoiding Argument Errors"
      ]
    },
    {
      "cell_type": "code",
      "execution_count": null,
      "metadata": {
        "colab": {
          "base_uri": "https://localhost:8080/",
          "height": 200
        },
        "id": "fkjIjN5_KYH8",
        "outputId": "c60febd0-5148-4da6-9c30-3a99344a0051"
      },
      "outputs": [
        {
          "ename": "TypeError",
          "evalue": "ignored",
          "output_type": "error",
          "traceback": [
            "\u001b[0;31m---------------------------------------------------------------------------\u001b[0m",
            "\u001b[0;31mTypeError\u001b[0m                                 Traceback (most recent call last)",
            "\u001b[0;32m<ipython-input-1-6149d41342f5>\u001b[0m in \u001b[0;36m<module>\u001b[0;34m()\u001b[0m\n\u001b[1;32m      3\u001b[0m  \u001b[0mprint\u001b[0m\u001b[0;34m(\u001b[0m\u001b[0;34mf\"\\nI have a {animal_type}.\"\u001b[0m\u001b[0;34m)\u001b[0m\u001b[0;34m\u001b[0m\u001b[0;34m\u001b[0m\u001b[0m\n\u001b[1;32m      4\u001b[0m  \u001b[0mprint\u001b[0m\u001b[0;34m(\u001b[0m\u001b[0;34mf\"My {animal_type}'s name is {pet_name.title()}.\"\u001b[0m\u001b[0;34m)\u001b[0m\u001b[0;34m\u001b[0m\u001b[0;34m\u001b[0m\u001b[0m\n\u001b[0;32m----> 5\u001b[0;31m \u001b[0mdescribe_pet\u001b[0m\u001b[0;34m(\u001b[0m\u001b[0;34m)\u001b[0m\u001b[0;34m\u001b[0m\u001b[0;34m\u001b[0m\u001b[0m\n\u001b[0m",
            "\u001b[0;31mTypeError\u001b[0m: describe_pet() missing 2 required positional arguments: 'animal_type' and 'pet_name'"
          ]
        }
      ],
      "source": [
        "def describe_pet(animal_type, pet_name):\n",
        " \"\"\"Display information about a pet.\"\"\"\n",
        " print(f\"\\nI have a {animal_type}.\")\n",
        " print(f\"My {animal_type}'s name is {pet_name.title()}.\")\n",
        "describe_pet()"
      ]
    },
    {
      "cell_type": "markdown",
      "metadata": {
        "id": "NsegW9L9KxF8"
      },
      "source": [
        ": Write a function called make_shirt() that accepts a size and the \n",
        "text of a message that should be printed on the shirt. The function should print \n",
        "a sentence summarizing the size of the shirt and the message printed on it.\n",
        "Call the function once using positional arguments to make a shirt. Call the \n",
        "function a second time using keyword arguments.\n"
      ]
    },
    {
      "cell_type": "code",
      "execution_count": null,
      "metadata": {
        "colab": {
          "base_uri": "https://localhost:8080/"
        },
        "id": "8fH2vpwULFLn",
        "outputId": "f0f5cce9-b1e3-4694-8e4f-447ebfca35d3"
      },
      "outputs": [
        {
          "name": "stdout",
          "output_type": "stream",
          "text": [
            "\n",
            " Make a Shirt of Medium size and print 'I love to code' on shirt.\n",
            "\n",
            " Make a Shirt of Medium size and print 'I love to code' on shirt.\n"
          ]
        }
      ],
      "source": [
        "def make_shirt(s_size, s_msg):\n",
        "  \"\"\"Make a shirt and Print msg on Shirt\"\"\"\n",
        "  print(f\"\\n Make a Shirt of {s_size} size and print {s_msg} on shirt.\" )\n",
        "make_shirt('Medium', \"'I love to code'\")\n",
        "make_shirt(s_size = 'Medium', s_msg=\"'I love to code'\")"
      ]
    },
    {
      "cell_type": "markdown",
      "metadata": {
        "id": "5k7DAKdIS2d0"
      },
      "source": [
        " Modify the make_shirt() function so that shirts are large \n",
        "by default with a message that reads I love Python. Make a large shirt and a \n",
        "medium shirt with the default message, and a shirt of any size with a different \n",
        "message."
      ]
    },
    {
      "cell_type": "code",
      "execution_count": null,
      "metadata": {
        "colab": {
          "base_uri": "https://localhost:8080/"
        },
        "id": "t4o1anRiTFzi",
        "outputId": "31a184ba-4196-4746-f930-6912aa7310d3"
      },
      "outputs": [
        {
          "name": "stdout",
          "output_type": "stream",
          "text": [
            "\n",
            " Make a Shirt of Large size and print I love Python on shirt.\n"
          ]
        }
      ],
      "source": [
        "def make_shirt(s_size =\"Large\", s_msg= \"I love Python\"):\n",
        "  \"\"\"Make a shirt and Print msg on Shirt\"\"\"\n",
        "  print(f\"\\n Make a Shirt of {s_size} size and print {s_msg} on shirt.\" )\n",
        "make_shirt()"
      ]
    },
    {
      "cell_type": "markdown",
      "metadata": {
        "id": "_zgnFEdFHCaP"
      },
      "source": [
        "Write a function called describe_city() that accepts the name of \n",
        "a city and its country. The function should print a simple sentence, such as \n",
        "Reykjavik is in Iceland. Give the parameter for the country a default value. \n",
        "Call your function for three different cities, at least one of which is not in the \n",
        "default country."
      ]
    },
    {
      "cell_type": "code",
      "execution_count": null,
      "metadata": {
        "colab": {
          "base_uri": "https://localhost:8080/"
        },
        "id": "Fu0DcOMoHh-4",
        "outputId": "9e0c66f7-5bcb-45c7-b4eb-6f058054e7b7"
      },
      "outputs": [
        {
          "name": "stdout",
          "output_type": "stream",
          "text": [
            "\n",
            " Reykjavik is in Iceland.\n",
            "\n",
            " Delhi is in India.\n",
            "\n",
            " Sydney is in Australia.\n"
          ]
        }
      ],
      "source": [
        "def describe_city(c_name, country= \"Iceland\"):\n",
        "  \"\"\"Print a simple sentence\"\"\"\n",
        "  print(f\"\\n {c_name} is in {country}.\")\n",
        "\n",
        "describe_city(\"Reykjavik\") \n",
        "describe_city(\"Delhi\", \"India\")\n",
        "describe_city(\"Sydney\", \"Australia\")"
      ]
    },
    {
      "cell_type": "markdown",
      "metadata": {
        "id": "YqdCGGrTJv69"
      },
      "source": [
        "Return Value:- Returning a Simple Value"
      ]
    },
    {
      "cell_type": "code",
      "execution_count": null,
      "metadata": {
        "colab": {
          "base_uri": "https://localhost:8080/"
        },
        "id": "k-eeyVE6KMzS",
        "outputId": "481c28b8-e205-4993-bad1-1028b8c0579e"
      },
      "outputs": [
        {
          "name": "stdout",
          "output_type": "stream",
          "text": [
            "Jimi Hendrix\n"
          ]
        }
      ],
      "source": [
        "def get_formatted_name(first_name, last_name):\n",
        " \"\"\"Return a full name, neatly formatted.\"\"\"\n",
        " full_name = f\"{first_name} {last_name}\"\n",
        " return full_name.title()\n",
        "musician = get_formatted_name('jimi', 'hendrix')\n",
        "print(musician)\n"
      ]
    },
    {
      "cell_type": "markdown",
      "metadata": {
        "id": "w783lW_rN_Iv"
      },
      "source": [
        "Making an Argument Optional"
      ]
    },
    {
      "cell_type": "code",
      "execution_count": null,
      "metadata": {
        "colab": {
          "base_uri": "https://localhost:8080/"
        },
        "id": "AAsjaVaXOAmC",
        "outputId": "2baf9b5a-9546-47ed-fc21-f667b037c29a"
      },
      "outputs": [
        {
          "name": "stdout",
          "output_type": "stream",
          "text": [
            "John Lee Hooker\n"
          ]
        }
      ],
      "source": [
        "def get_formatted_name(first_name, middle_name, last_name):\n",
        " \"\"\"Return a full name, neatly formatted.\"\"\"\n",
        " full_name = f\"{first_name} {middle_name} {last_name}\"\n",
        " return full_name.title()\n",
        " \n",
        "musician = get_formatted_name('john', 'lee', 'hooker')\n",
        "print(musician)"
      ]
    },
    {
      "cell_type": "code",
      "execution_count": null,
      "metadata": {
        "colab": {
          "base_uri": "https://localhost:8080/"
        },
        "id": "M3xJ-UhlOj0k",
        "outputId": "0741186c-e69c-4195-ef28-bf11551d6a70"
      },
      "outputs": [
        {
          "name": "stdout",
          "output_type": "stream",
          "text": [
            "Jimi Hendrix\n",
            "John Lee Hooker\n"
          ]
        }
      ],
      "source": [
        "def get_formatted_name(first_name, last_name, middle_name=''):\n",
        " \"\"\"Return a full name, neatly formatted.\"\"\"\n",
        " if middle_name:\n",
        "  full_name = f\"{first_name} {middle_name} {last_name}\"\n",
        " else:\n",
        "  full_name = f\"{first_name} {last_name}\"\n",
        " return full_name.title()\n",
        "musician = get_formatted_name('jimi', 'hendrix')\n",
        "print(musician)\n",
        "musician = get_formatted_name('john', 'hooker', 'lee')\n",
        "print(musician)\n"
      ]
    },
    {
      "cell_type": "markdown",
      "metadata": {
        "id": "4MdGqW-xO59f"
      },
      "source": [
        "Returning a Dictionary"
      ]
    },
    {
      "cell_type": "code",
      "execution_count": null,
      "metadata": {
        "colab": {
          "base_uri": "https://localhost:8080/"
        },
        "id": "SU0o47NOO6_T",
        "outputId": "5059d8f3-ce92-419c-8f21-87a853b5d52f"
      },
      "outputs": [
        {
          "name": "stdout",
          "output_type": "stream",
          "text": [
            "{'first': 'jimi', 'last': 'hendrix'}\n"
          ]
        }
      ],
      "source": [
        "def build_person(first_name, last_name):\n",
        " \"\"\"Return a dictionary of information about a person.\"\"\"\n",
        " person = {'first': first_name, 'last': last_name}\n",
        " return person\n",
        "musician = build_person('jimi', 'hendrix')\n",
        "print(musician)"
      ]
    },
    {
      "cell_type": "code",
      "execution_count": null,
      "metadata": {
        "colab": {
          "base_uri": "https://localhost:8080/"
        },
        "id": "CBwazN6YPsZb",
        "outputId": "37806593-9404-4fc2-f1a8-c8c2bf7d5b17"
      },
      "outputs": [
        {
          "name": "stdout",
          "output_type": "stream",
          "text": [
            "{'first': 'jimi', 'last': 'hendrix', 'age': 27}\n"
          ]
        }
      ],
      "source": [
        "def build_person(first_name, last_name, age=None):\n",
        " \"\"\"Return a dictionary of information about a person.\"\"\"\n",
        " person = {'first': first_name, 'last': last_name}\n",
        " if age:\n",
        "   person['age'] = age\n",
        " return person\n",
        "musician = build_person('jimi', 'hendrix', age=27)\n",
        "print(musician)"
      ]
    },
    {
      "cell_type": "markdown",
      "metadata": {
        "id": "cLIQ4IeIRE7H"
      },
      "source": [
        "Using a Function with a while Loop"
      ]
    },
    {
      "cell_type": "code",
      "execution_count": null,
      "metadata": {
        "colab": {
          "base_uri": "https://localhost:8080/",
          "height": 779
        },
        "id": "upAlawlgRGQx",
        "outputId": "53c913d0-8ca6-4456-f6c3-dcc3a1423815"
      },
      "outputs": [
        {
          "name": "stdout",
          "output_type": "stream",
          "text": [
            "\n",
            "Please tell me your name:\n",
            "First name: JRF\n",
            "Last name: Vandita\n",
            "\n",
            "Hello, Jrf Vandita!\n",
            "\n",
            "Please tell me your name:\n",
            "First name: Indu\n",
            "Last name: Matti\n",
            "\n",
            "Hello, Indu Matti!\n",
            "\n",
            "Please tell me your name:\n"
          ]
        },
        {
          "ename": "KeyboardInterrupt",
          "evalue": "ignored",
          "output_type": "error",
          "traceback": [
            "\u001b[0;31m---------------------------------------------------------------------------\u001b[0m",
            "\u001b[0;31mKeyboardInterrupt\u001b[0m                         Traceback (most recent call last)",
            "\u001b[0;32m/usr/local/lib/python3.7/dist-packages/ipykernel/kernelbase.py\u001b[0m in \u001b[0;36m_input_request\u001b[0;34m(self, prompt, ident, parent, password)\u001b[0m\n\u001b[1;32m    728\u001b[0m             \u001b[0;32mtry\u001b[0m\u001b[0;34m:\u001b[0m\u001b[0;34m\u001b[0m\u001b[0;34m\u001b[0m\u001b[0m\n\u001b[0;32m--> 729\u001b[0;31m                 \u001b[0mident\u001b[0m\u001b[0;34m,\u001b[0m \u001b[0mreply\u001b[0m \u001b[0;34m=\u001b[0m \u001b[0mself\u001b[0m\u001b[0;34m.\u001b[0m\u001b[0msession\u001b[0m\u001b[0;34m.\u001b[0m\u001b[0mrecv\u001b[0m\u001b[0;34m(\u001b[0m\u001b[0mself\u001b[0m\u001b[0;34m.\u001b[0m\u001b[0mstdin_socket\u001b[0m\u001b[0;34m,\u001b[0m \u001b[0;36m0\u001b[0m\u001b[0;34m)\u001b[0m\u001b[0;34m\u001b[0m\u001b[0;34m\u001b[0m\u001b[0m\n\u001b[0m\u001b[1;32m    730\u001b[0m             \u001b[0;32mexcept\u001b[0m \u001b[0mException\u001b[0m\u001b[0;34m:\u001b[0m\u001b[0;34m\u001b[0m\u001b[0;34m\u001b[0m\u001b[0m\n",
            "\u001b[0;32m/usr/local/lib/python3.7/dist-packages/jupyter_client/session.py\u001b[0m in \u001b[0;36mrecv\u001b[0;34m(self, socket, mode, content, copy)\u001b[0m\n\u001b[1;32m    802\u001b[0m         \u001b[0;32mtry\u001b[0m\u001b[0;34m:\u001b[0m\u001b[0;34m\u001b[0m\u001b[0;34m\u001b[0m\u001b[0m\n\u001b[0;32m--> 803\u001b[0;31m             \u001b[0mmsg_list\u001b[0m \u001b[0;34m=\u001b[0m \u001b[0msocket\u001b[0m\u001b[0;34m.\u001b[0m\u001b[0mrecv_multipart\u001b[0m\u001b[0;34m(\u001b[0m\u001b[0mmode\u001b[0m\u001b[0;34m,\u001b[0m \u001b[0mcopy\u001b[0m\u001b[0;34m=\u001b[0m\u001b[0mcopy\u001b[0m\u001b[0;34m)\u001b[0m\u001b[0;34m\u001b[0m\u001b[0;34m\u001b[0m\u001b[0m\n\u001b[0m\u001b[1;32m    804\u001b[0m         \u001b[0;32mexcept\u001b[0m \u001b[0mzmq\u001b[0m\u001b[0;34m.\u001b[0m\u001b[0mZMQError\u001b[0m \u001b[0;32mas\u001b[0m \u001b[0me\u001b[0m\u001b[0;34m:\u001b[0m\u001b[0;34m\u001b[0m\u001b[0;34m\u001b[0m\u001b[0m\n",
            "\u001b[0;32m/usr/local/lib/python3.7/dist-packages/zmq/sugar/socket.py\u001b[0m in \u001b[0;36mrecv_multipart\u001b[0;34m(self, flags, copy, track)\u001b[0m\n\u001b[1;32m    726\u001b[0m         \"\"\"\n\u001b[0;32m--> 727\u001b[0;31m         \u001b[0mparts\u001b[0m \u001b[0;34m=\u001b[0m \u001b[0;34m[\u001b[0m\u001b[0mself\u001b[0m\u001b[0;34m.\u001b[0m\u001b[0mrecv\u001b[0m\u001b[0;34m(\u001b[0m\u001b[0mflags\u001b[0m\u001b[0;34m,\u001b[0m \u001b[0mcopy\u001b[0m\u001b[0;34m=\u001b[0m\u001b[0mcopy\u001b[0m\u001b[0;34m,\u001b[0m \u001b[0mtrack\u001b[0m\u001b[0;34m=\u001b[0m\u001b[0mtrack\u001b[0m\u001b[0;34m)\u001b[0m\u001b[0;34m]\u001b[0m\u001b[0;34m\u001b[0m\u001b[0;34m\u001b[0m\u001b[0m\n\u001b[0m\u001b[1;32m    728\u001b[0m         \u001b[0;31m# have first part already, only loop while more to receive\u001b[0m\u001b[0;34m\u001b[0m\u001b[0;34m\u001b[0m\u001b[0;34m\u001b[0m\u001b[0m\n",
            "\u001b[0;32mzmq/backend/cython/socket.pyx\u001b[0m in \u001b[0;36mzmq.backend.cython.socket.Socket.recv\u001b[0;34m()\u001b[0m\n",
            "\u001b[0;32mzmq/backend/cython/socket.pyx\u001b[0m in \u001b[0;36mzmq.backend.cython.socket.Socket.recv\u001b[0;34m()\u001b[0m\n",
            "\u001b[0;32mzmq/backend/cython/socket.pyx\u001b[0m in \u001b[0;36mzmq.backend.cython.socket._recv_copy\u001b[0;34m()\u001b[0m\n",
            "\u001b[0;32m/usr/local/lib/python3.7/dist-packages/zmq/backend/cython/checkrc.pxd\u001b[0m in \u001b[0;36mzmq.backend.cython.checkrc._check_rc\u001b[0;34m()\u001b[0m\n",
            "\u001b[0;31mKeyboardInterrupt\u001b[0m: ",
            "\nDuring handling of the above exception, another exception occurred:\n",
            "\u001b[0;31mKeyboardInterrupt\u001b[0m                         Traceback (most recent call last)",
            "\u001b[0;32m<ipython-input-1-8daf390316e5>\u001b[0m in \u001b[0;36m<module>\u001b[0;34m()\u001b[0m\n\u001b[1;32m      6\u001b[0m \u001b[0;32mwhile\u001b[0m \u001b[0;32mTrue\u001b[0m\u001b[0;34m:\u001b[0m\u001b[0;34m\u001b[0m\u001b[0;34m\u001b[0m\u001b[0m\n\u001b[1;32m      7\u001b[0m  \u001b[0mprint\u001b[0m\u001b[0;34m(\u001b[0m\u001b[0;34m\"\\nPlease tell me your name:\"\u001b[0m\u001b[0;34m)\u001b[0m\u001b[0;34m\u001b[0m\u001b[0;34m\u001b[0m\u001b[0m\n\u001b[0;32m----> 8\u001b[0;31m  \u001b[0mf_name\u001b[0m \u001b[0;34m=\u001b[0m \u001b[0minput\u001b[0m\u001b[0;34m(\u001b[0m\u001b[0;34m\"First name: \"\u001b[0m\u001b[0;34m)\u001b[0m\u001b[0;34m\u001b[0m\u001b[0;34m\u001b[0m\u001b[0m\n\u001b[0m\u001b[1;32m      9\u001b[0m  \u001b[0ml_name\u001b[0m \u001b[0;34m=\u001b[0m \u001b[0minput\u001b[0m\u001b[0;34m(\u001b[0m\u001b[0;34m\"Last name: \"\u001b[0m\u001b[0;34m)\u001b[0m\u001b[0;34m\u001b[0m\u001b[0;34m\u001b[0m\u001b[0m\n\u001b[1;32m     10\u001b[0m \u001b[0;34m\u001b[0m\u001b[0m\n",
            "\u001b[0;32m/usr/local/lib/python3.7/dist-packages/ipykernel/kernelbase.py\u001b[0m in \u001b[0;36mraw_input\u001b[0;34m(self, prompt)\u001b[0m\n\u001b[1;32m    702\u001b[0m             \u001b[0mself\u001b[0m\u001b[0;34m.\u001b[0m\u001b[0m_parent_ident\u001b[0m\u001b[0;34m,\u001b[0m\u001b[0;34m\u001b[0m\u001b[0;34m\u001b[0m\u001b[0m\n\u001b[1;32m    703\u001b[0m             \u001b[0mself\u001b[0m\u001b[0;34m.\u001b[0m\u001b[0m_parent_header\u001b[0m\u001b[0;34m,\u001b[0m\u001b[0;34m\u001b[0m\u001b[0;34m\u001b[0m\u001b[0m\n\u001b[0;32m--> 704\u001b[0;31m             \u001b[0mpassword\u001b[0m\u001b[0;34m=\u001b[0m\u001b[0;32mFalse\u001b[0m\u001b[0;34m,\u001b[0m\u001b[0;34m\u001b[0m\u001b[0;34m\u001b[0m\u001b[0m\n\u001b[0m\u001b[1;32m    705\u001b[0m         )\n\u001b[1;32m    706\u001b[0m \u001b[0;34m\u001b[0m\u001b[0m\n",
            "\u001b[0;32m/usr/local/lib/python3.7/dist-packages/ipykernel/kernelbase.py\u001b[0m in \u001b[0;36m_input_request\u001b[0;34m(self, prompt, ident, parent, password)\u001b[0m\n\u001b[1;32m    732\u001b[0m             \u001b[0;32mexcept\u001b[0m \u001b[0mKeyboardInterrupt\u001b[0m\u001b[0;34m:\u001b[0m\u001b[0;34m\u001b[0m\u001b[0;34m\u001b[0m\u001b[0m\n\u001b[1;32m    733\u001b[0m                 \u001b[0;31m# re-raise KeyboardInterrupt, to truncate traceback\u001b[0m\u001b[0;34m\u001b[0m\u001b[0;34m\u001b[0m\u001b[0;34m\u001b[0m\u001b[0m\n\u001b[0;32m--> 734\u001b[0;31m                 \u001b[0;32mraise\u001b[0m \u001b[0mKeyboardInterrupt\u001b[0m\u001b[0;34m\u001b[0m\u001b[0;34m\u001b[0m\u001b[0m\n\u001b[0m\u001b[1;32m    735\u001b[0m             \u001b[0;32melse\u001b[0m\u001b[0;34m:\u001b[0m\u001b[0;34m\u001b[0m\u001b[0;34m\u001b[0m\u001b[0m\n\u001b[1;32m    736\u001b[0m                 \u001b[0;32mbreak\u001b[0m\u001b[0;34m\u001b[0m\u001b[0;34m\u001b[0m\u001b[0m\n",
            "\u001b[0;31mKeyboardInterrupt\u001b[0m: "
          ]
        }
      ],
      "source": [
        "def get_formatted_name(first_name, last_name):\n",
        " \"\"\"Return a full name, neatly formatted.\"\"\"\n",
        " full_name = f\"{first_name} {last_name}\"\n",
        " return full_name.title()\n",
        "# This is an infinite loop!\n",
        "while True:\n",
        " print(\"\\nPlease tell me your name:\")\n",
        " f_name = input(\"First name: \")\n",
        " l_name = input(\"Last name: \")\n",
        "\n",
        " formatted_name = get_formatted_name(f_name, l_name)\n",
        " print(f\"\\nHello, {formatted_name}!\")"
      ]
    },
    {
      "cell_type": "code",
      "execution_count": null,
      "metadata": {
        "colab": {
          "base_uri": "https://localhost:8080/"
        },
        "id": "FNSs7d30lFyT",
        "outputId": "13f470dc-47da-447c-c120-b573c1515c41"
      },
      "outputs": [
        {
          "name": "stdout",
          "output_type": "stream",
          "text": [
            "\n",
            "Please tell me your name:\n",
            "(enter 'q' at any time to quit)\n",
            "First name: Kakashi\n",
            "Last name: Hatake\n",
            "\n",
            "Hello, Kakashi Hatake!\n",
            "\n",
            "Please tell me your name:\n",
            "(enter 'q' at any time to quit)\n",
            "First name: q\n"
          ]
        }
      ],
      "source": [
        "def get_formatted_name(first_name, last_name):\n",
        " \"\"\"Return a full name, neatly formatted.\"\"\"\n",
        " full_name = f\"{first_name} {last_name}\"\n",
        " return full_name.title()\n",
        "while True:\n",
        " print(\"\\nPlease tell me your name:\")\n",
        " print(\"(enter 'q' at any time to quit)\")\n",
        " \n",
        " f_name = input(\"First name: \")\n",
        " if f_name == 'q':\n",
        "  break\n",
        "\n",
        " l_name = input(\"Last name: \")\n",
        " if l_name == 'q':\n",
        "  break\n",
        " \n",
        " formatted_name = get_formatted_name(f_name, l_name)\n",
        " print(f\"\\nHello, {formatted_name}!\")"
      ]
    },
    {
      "cell_type": "markdown",
      "metadata": {
        "id": "wFLkU9Solvp2"
      },
      "source": [
        "Write a function called city_country() that takes in the name \n",
        "of a city and its country. The function should return a string formatted like this:\n",
        "\"Santiago, Chile\""
      ]
    },
    {
      "cell_type": "code",
      "execution_count": null,
      "metadata": {
        "colab": {
          "base_uri": "https://localhost:8080/"
        },
        "id": "hosJWF8iiFG8",
        "outputId": "c1e266c5-9aef-4a40-950a-78703a302830"
      },
      "outputs": [
        {
          "name": "stdout",
          "output_type": "stream",
          "text": [
            "\n",
            "Please Enter City name:\n",
            "(enter 'q' at any time to quit)\n",
            "City name: Delhi\n",
            "Country name: India\n",
            "\n",
            "\" Delhi, India\"\n",
            "\n",
            "Please Enter City name:\n",
            "(enter 'q' at any time to quit)\n",
            "City name: q\n"
          ]
        }
      ],
      "source": [
        "def city_country(c_name, country):\n",
        " \"\"\"return above format \"\"\"\n",
        " C_C = f\"{c_name}, {country}\"\n",
        " return C_C.title()\n",
        "\n",
        "while True:\n",
        "  print(\"\\nPlease Enter City name:\")\n",
        "  print(\"(enter 'q' at any time to quit)\")\n",
        "\n",
        "  cy_name = input(\"City name: \")\n",
        "  if cy_name == 'q':\n",
        "        break\n",
        "\n",
        "  cn_name = input(\"Country name: \")\n",
        "  if cn_name == 'q':\n",
        "   break\n",
        " \n",
        "  formatted_name = city_country(cy_name, cn_name)\n",
        "  print(f'\\n\" {formatted_name}\"')\n"
      ]
    },
    {
      "cell_type": "markdown",
      "source": [
        "Write a function called make_album() that builds a dictionary \n",
        "describing a music album. The function should take in an artist name and an \n",
        "album title, and it should return a dictionary containing these two pieces of \n",
        "information. Use the function to make three dictionaries representing different \n",
        "albums. Print each return value to show that the dictionaries are storing the \n",
        "album information correctly.\n",
        "Use None to add an optional parameter to make_album() that allows you to \n",
        "store the number of songs on an album. If the calling line includes a value for \n",
        "the number of songs, add that value to the album’s dictionary. Make at least \n",
        "one new function call that includes the number of songs on an album."
      ],
      "metadata": {
        "id": "R3GfkmFGQu7r"
      }
    },
    {
      "cell_type": "code",
      "source": [
        "def make_album(artist_name, album_title, n_songs = None):\n",
        "  \"\"\"return dictionary using function\"\"\"\n",
        "  dict1 = {'art_name': artist_name, 'a_title': album_title,'n_s':n_songs}\n",
        "  return dict1\n",
        "m_album = make_album('jimi', 'hendrix')\n",
        "print(m_album) \n",
        "m_album = make_album('arijit', 'Groove','6')\n",
        "print(m_album) \n",
        "m_album = make_album('SMW','Moosetape','7')\n",
        "print(m_album)\n"
      ],
      "metadata": {
        "colab": {
          "base_uri": "https://localhost:8080/"
        },
        "id": "eR_jMrEJZQgS",
        "outputId": "00ddb404-e0ca-4ca8-d8db-25c31dc3fb24"
      },
      "execution_count": null,
      "outputs": [
        {
          "output_type": "stream",
          "name": "stdout",
          "text": [
            "{'art_name': 'jimi', 'a_title': 'hendrix', 'n_s': None}\n",
            "{'art_name': 'arijit', 'a_title': 'Groove', 'n_s': '6'}\n",
            "{'art_name': 'SMW', 'a_title': 'Moosetape', 'n_s': '7'}\n"
          ]
        }
      ]
    },
    {
      "cell_type": "markdown",
      "source": [
        "Start with your program from Exercise 8-7. Write a while\n",
        "loop that allows users to enter an album’s artist and title. Once you have that \n",
        "information, call make_album() with the user’s input and print the dictionary \n",
        "that’s created. Be sure to include a quit value in the while loop.\n",
        "\n"
      ],
      "metadata": {
        "id": "U_k-QNyF5S9B"
      }
    },
    {
      "cell_type": "code",
      "source": [
        "def make_album(artist_name, album_title, n_songs = None):\n",
        "  \"\"\"return dictionary using function\"\"\"\n",
        "  dict1 = {'art_name': artist_name, 'a_title': album_title,'n_s':n_songs}\n",
        "  return dict1\n",
        "\n",
        "  while True:\n",
        "     print(\"\\nPlease Enter City name:\")\n",
        "     print(\"(enter 'q' at any time to quit)\")\n",
        "     cy_name = input(\"City name: \")\n",
        "     if cy_name == 'q':\n",
        "        break\n",
        "     print(\"\\nPlease Enter City name:\")\n",
        "     print(\"(enter 'q' at any time to quit)\")\n",
        "     cn_name = input(\"Country name: \")\n",
        "     if cn_name == 'q':\n",
        "        break\n",
        "     print(\"\\nPlease Enter City name:\")\n",
        "     print(\"(enter 'q' at any time to quit)\")\n",
        "     num_songs = input(\"\\n Number of songs:\")\n",
        "     if num_songs == 'q':\n",
        "       break\n",
        "       formatted_name = make_album(f_name, l_name)\n",
        "       print(f\"\\nHello, {formatted_name}!\")\n",
        "\n"
      ],
      "metadata": {
        "id": "FYXX_d0xln4Z"
      },
      "execution_count": null,
      "outputs": []
    },
    {
      "cell_type": "markdown",
      "source": [
        ""
      ],
      "metadata": {
        "id": "TVlZEhXjlXIO"
      }
    },
    {
      "cell_type": "code",
      "source": [
        "def greet_users(names):\n",
        " \"\"\"Print a simple greeting to each user in the list.\"\"\"\n",
        " for name in names:\n",
        "  msg = f\"Hello, {name.title()}!\"\n",
        "  print(msg)\n",
        "usernames = ['hannah', 'ty', 'margot']\n",
        "greet_users(usernames)"
      ],
      "metadata": {
        "colab": {
          "base_uri": "https://localhost:8080/"
        },
        "id": "0j97ULsUlXse",
        "outputId": "335173a1-70a5-4753-9f67-605cd22683ca"
      },
      "execution_count": null,
      "outputs": [
        {
          "output_type": "stream",
          "name": "stdout",
          "text": [
            "Hello, Hannah!\n",
            "Hello, Ty!\n",
            "Hello, Margot!\n"
          ]
        }
      ]
    },
    {
      "cell_type": "markdown",
      "source": [
        "Start with some designs that need to be printed."
      ],
      "metadata": {
        "id": "2Jt8NDO6mIo0"
      }
    },
    {
      "cell_type": "code",
      "source": [
        "unprinted_designs = ['phone case', 'robot pendant', 'dodecahedron']\n",
        "completed_models = []\n",
        "# Simulate printing each design, until none are left.\n",
        "# Move each design to completed_models after printing.\n",
        "while unprinted_designs:\n",
        "  current_design = unprinted_designs.pop()\n",
        "  print(f\"Printing model: {current_design}\")\n",
        "  completed_models.append(current_design)\n",
        " \n",
        "# Display all completed models.\n",
        "print(\"\\nThe following models have been printed:\")\n",
        "for completed_model in completed_models:\n",
        " print(completed_model)"
      ],
      "metadata": {
        "colab": {
          "base_uri": "https://localhost:8080/"
        },
        "id": "h9iaAQZLl2ix",
        "outputId": "7479ff52-9b44-49b7-80da-6523911fe6d1"
      },
      "execution_count": null,
      "outputs": [
        {
          "output_type": "stream",
          "name": "stdout",
          "text": [
            "Printing model: dodecahedron\n",
            "Printing model: robot pendant\n",
            "Printing model: phone case\n",
            "\n",
            "The following models have been printed:\n",
            "dodecahedron\n",
            "robot pendant\n",
            "phone case\n"
          ]
        }
      ]
    },
    {
      "cell_type": "code",
      "source": [
        "def print_models(unprinted_designs, completed_models):\n",
        " \"\"\"\n",
        " Simulate printing each design, until none are left.\n",
        " Move each design to completed_models after printing.\n",
        " \"\"\"\n",
        " while unprinted_designs:\n",
        "  current_design = unprinted_designs.pop()\n",
        " print(f\"Printing model: {current_design}\")\n",
        " completed_models.append(current_design)\n",
        " \n",
        "def show_completed_models(completed_models):\n",
        " \"\"\"Show all the models that were printed.\"\"\"\n",
        " print(\"\\nThe following models have been printed:\")\n",
        " for completed_model in completed_models:\n",
        "   print(completed_model)\n",
        " \n",
        "unprinted_designs = ['phone case', 'robot pendant', 'dodecahedron']\n",
        "completed_models = []\n",
        "print_models(unprinted_designs, completed_models)\n",
        "show_completed_models(completed_models)\n"
      ],
      "metadata": {
        "colab": {
          "base_uri": "https://localhost:8080/"
        },
        "id": "I9xJmEaimkq9",
        "outputId": "fac70104-e4ff-4097-8881-444d62e4b93a"
      },
      "execution_count": null,
      "outputs": [
        {
          "output_type": "stream",
          "name": "stdout",
          "text": [
            "Printing model: phone case\n",
            "\n",
            "The following models have been printed:\n",
            "phone case\n"
          ]
        }
      ]
    },
    {
      "cell_type": "markdown",
      "source": [
        "Make a list containing a series of short text messages. Pass the \n",
        "list to a function called show_messages(), which prints each text message.\n",
        "\n"
      ],
      "metadata": {
        "id": "zkk424m_oS6w"
      }
    },
    {
      "cell_type": "code",
      "source": [
        "def show_messages(msg1):\n",
        " \"\"\"Print a simple greeting to each user in the list.\"\"\"\n",
        " \n",
        " for msg  in text_msg:\n",
        "  msg = f\"Hello, {msg.title()}!\"\n",
        "  print(msg)\n",
        "msg1 = [\" & Welcome Guys\",\"Welcome to nature YouTube Channel\",\"Go to hell\"]\n",
        "show_messages(msg1)\n",
        "\n"
      ],
      "metadata": {
        "colab": {
          "base_uri": "https://localhost:8080/"
        },
        "id": "Bb-S7yt4oSXX",
        "outputId": "be72e89d-104b-474d-8a4b-b44517d3a424"
      },
      "execution_count": null,
      "outputs": [
        {
          "output_type": "stream",
          "name": "stdout",
          "text": [
            "Hello, Hello Guys!\n",
            "Hello, Welcome To Nature Youtube Channel!\n",
            "Hello, Go To Hell!\n"
          ]
        }
      ]
    },
    {
      "cell_type": "code",
      "source": [
        "def show_messages(messages):\n",
        "    for message in messages:\n",
        "        print(\"Hello, {}!\".format(message))\n",
        "my_list = ['Happy Coding', 'Learn Python Functions', 'be a Bahubali of your Life']\n",
        "\n",
        "show_messages(my_list)"
      ],
      "metadata": {
        "colab": {
          "base_uri": "https://localhost:8080/"
        },
        "id": "H_1yLIKO2jzW",
        "outputId": "07cbaa55-e10b-406e-fec6-cb73148f09da"
      },
      "execution_count": null,
      "outputs": [
        {
          "output_type": "stream",
          "name": "stdout",
          "text": [
            "Hello, Happy Coding!\n",
            "Hello, Learn Python Functions!\n",
            "Hello, be a Bahubali of your Life!\n"
          ]
        }
      ]
    },
    {
      "cell_type": "markdown",
      "source": [
        "Start with a copy of your program from Exercise 8-9. \n",
        "Write a function called send_messages() that prints each text message and \n",
        "moves each message to a new list called sent_messages as it’s printed. After \n",
        "calling the function, print both of your lists to make sure the messages were \n",
        "moved correctly."
      ],
      "metadata": {
        "id": "hx7Mbj3MqeuU"
      }
    },
    {
      "cell_type": "code",
      "source": [
        "def show_messages(msg1, sent_messages):\n",
        "    while msg1:\n",
        "        current_message = msg1.pop()\n",
        "        print(f\"Hello, {current_message}!\")\n",
        "        sent_messages.append(current_message)\n",
        "\n",
        "\n",
        "def send_messages(sent_messages):\n",
        "    print(\"\\nThe following messages have been sent:\")\n",
        "    for sent_message in sent_messages:\n",
        "        print(f\"Hii, {sent_message}!\")\n",
        "    \n",
        "\n",
        "msg = [\" & Welcome Guys\",\"Welcome to nature YouTube Channel\",\"Go to hell\"]\n",
        "sent_messages = []\n",
        "\n",
        "show_messages(msg, sent_messages)\n",
        "send_messages(sent_messages)\n"
      ],
      "metadata": {
        "colab": {
          "base_uri": "https://localhost:8080/"
        },
        "id": "UM0U7z42zTCT",
        "outputId": "a6ba93d3-0a21-4b8a-dc7e-0b66e8e8bf52"
      },
      "execution_count": null,
      "outputs": [
        {
          "output_type": "stream",
          "name": "stdout",
          "text": [
            "Hello, Go to hell!\n",
            "Hello, Welcome to nature YouTube Channel!\n",
            "Hello,  & Welcome Guys!\n",
            "\n",
            "The following messages have been sent:\n",
            "Hii, Go to hell!\n",
            "Hii, Welcome to nature YouTube Channel!\n",
            "Hii,  & Welcome Guys!\n"
          ]
        }
      ]
    },
    {
      "cell_type": "markdown",
      "source": [
        "Start with your work from Exercise 8-10. Call the \n",
        "function send_messages() with a copy of the list of messages. After calling the \n",
        "function, print both of your lists to show that the original list has retained its \n",
        "messages"
      ],
      "metadata": {
        "id": "MYvVlY2y3cbA"
      }
    },
    {
      "cell_type": "code",
      "source": [
        "def show_messages(messages):\n",
        "    \"\"\"Print all messages in the list.\"\"\"\n",
        "    print(\"Showing all messages:\")\n",
        "    for message in messages:\n",
        "        print(message)\n",
        "\n",
        "def send_messages(messages, sent_messages):\n",
        "    \"\"\"Print each message, and then move it to sent_messages.\"\"\"\n",
        "    print(\"\\nSending all messages:\")\n",
        "    while messages:\n",
        "        current_message = messages.pop()\n",
        "        print(current_message)\n",
        "        sent_messages.append(current_message)\n",
        "\n",
        "messages = [\"Hello folks!\", \"How are u?\", \"Welcome to Hell\"]\n",
        "show_messages(messages)\n",
        "\n",
        "sent_messages = []\n",
        "send_messages(messages, sent_messages)\n",
        "\n",
        "print(\"\\nFinal lists:\")\n",
        "print(messages)\n",
        "print(sent_messages)"
      ],
      "metadata": {
        "colab": {
          "base_uri": "https://localhost:8080/"
        },
        "id": "rTYmXdHL3-Fe",
        "outputId": "56c4bed6-0010-44cf-8324-08d3f9a7f158"
      },
      "execution_count": null,
      "outputs": [
        {
          "output_type": "stream",
          "name": "stdout",
          "text": [
            "Showing all messages:\n",
            "Hello folks!\n",
            "How are u?\n",
            "Welcome to Hell\n",
            "\n",
            "Sending all messages:\n",
            "Welcome to Hell\n",
            "How are u?\n",
            "Hello folks!\n",
            "\n",
            "Final lists:\n",
            "[]\n",
            "['Welcome to Hell', 'How are u?', 'Hello folks!']\n"
          ]
        }
      ]
    },
    {
      "cell_type": "markdown",
      "source": [
        "Passing an Arbitrary Number of Arguments"
      ],
      "metadata": {
        "id": "Qb2ZUuzX4_yr"
      }
    },
    {
      "cell_type": "code",
      "source": [
        "def make_pizza(*toppings):\n",
        " \"\"\"Print the list of toppings that have been requested.\"\"\"\n",
        " print(toppings)\n",
        " \n",
        "make_pizza('pepperoni')\n",
        "make_pizza('mushrooms', 'green peppers', 'extra cheese')"
      ],
      "metadata": {
        "colab": {
          "base_uri": "https://localhost:8080/"
        },
        "id": "45Prqfgf49lC",
        "outputId": "469a28eb-f0b6-4543-9dd3-fbab2d050d3e"
      },
      "execution_count": null,
      "outputs": [
        {
          "output_type": "stream",
          "name": "stdout",
          "text": [
            "('pepperoni',)\n",
            "('mushrooms', 'green peppers', 'extra cheese')\n"
          ]
        }
      ]
    },
    {
      "cell_type": "code",
      "source": [
        "def make_pizza(*toppings):\n",
        " \"\"\"Summarize the pizza we are about to make.\"\"\"\n",
        " print(\"\\nMaking a pizza with the following toppings:\")\n",
        " for topping in toppings:\n",
        "  print(f\"- {topping}\")\n",
        " \n",
        "make_pizza('pepperoni')\n",
        "make_pizza('mushrooms', 'green peppers', 'extra cheese') "
      ],
      "metadata": {
        "colab": {
          "base_uri": "https://localhost:8080/"
        },
        "id": "XGTK7JOa5P1s",
        "outputId": "8e6d80bd-1579-4a71-970c-2aac6616d1fd"
      },
      "execution_count": null,
      "outputs": [
        {
          "output_type": "stream",
          "name": "stdout",
          "text": [
            "\n",
            "Making a pizza with the following toppings:\n",
            "- pepperoni\n",
            "\n",
            "Making a pizza with the following toppings:\n",
            "- mushrooms\n",
            "- green peppers\n",
            "- extra cheese\n"
          ]
        }
      ]
    },
    {
      "cell_type": "markdown",
      "source": [
        "Mixing Positional and Arbitrary Arguments"
      ],
      "metadata": {
        "id": "TbRZ-d9V5Zy1"
      }
    },
    {
      "cell_type": "code",
      "source": [
        "def make_pizza(size, *toppings): \n",
        " \"\"\"Summarize the pizza we are about to make.\"\"\"\n",
        " print(f\"\\nMaking a {size}-inch pizza with the following toppings:\") \n",
        " for topping in toppings: \n",
        "  print(f\"- {topping}\") \n",
        " \n",
        "make_pizza(16, 'pepperoni') \n",
        "make_pizza(12, 'mushrooms', 'green peppers', 'extra cheese')"
      ],
      "metadata": {
        "colab": {
          "base_uri": "https://localhost:8080/"
        },
        "id": "xlQvuOEb5bwg",
        "outputId": "12e52deb-9987-4f19-c80e-85119bd738a2"
      },
      "execution_count": null,
      "outputs": [
        {
          "output_type": "stream",
          "name": "stdout",
          "text": [
            "\n",
            "Making a 16-inch pizza with the following toppings:\n",
            "- pepperoni\n",
            "\n",
            "Making a 12-inch pizza with the following toppings:\n",
            "- mushrooms\n",
            "- green peppers\n",
            "- extra cheese\n"
          ]
        }
      ]
    },
    {
      "cell_type": "markdown",
      "source": [
        "\n",
        "Using Arbitrary Keyword Arguments"
      ],
      "metadata": {
        "id": "wWRqRYbj5vfR"
      }
    },
    {
      "cell_type": "code",
      "source": [
        "def build_profile(first, last, **user_info):\n",
        " \"\"\"Build a dictionary containing everything we know about a user.\"\"\"\n",
        " user_info['first_name'] = first\n",
        " user_info['last_name'] = last\n",
        " return user_info\n",
        "user_profile = build_profile('albert', 'einstein',location='princeton',field='physics')\n",
        "print(user_profile)"
      ],
      "metadata": {
        "colab": {
          "base_uri": "https://localhost:8080/"
        },
        "id": "0GU_ANc851tH",
        "outputId": "32bef59f-13c3-4fee-df3c-c97ba376fe3c"
      },
      "execution_count": null,
      "outputs": [
        {
          "output_type": "stream",
          "name": "stdout",
          "text": [
            "{'location': 'princeton', 'field': 'physics', 'first_name': 'albert', 'last_name': 'einstein'}\n"
          ]
        }
      ]
    },
    {
      "cell_type": "markdown",
      "source": [
        "Note:- You’ll often see the parameter name **kwargs used to collect non-specific keyword \n",
        "arguments"
      ],
      "metadata": {
        "id": "OVYGySTE6p5j"
      }
    },
    {
      "cell_type": "markdown",
      "source": [
        "Sandwiches: Write a function that accepts a list of items a person wants \n",
        "on a sandwich. The function should have one parameter that collects as many \n",
        "items as the function call provides, and it should print a summary of the sand\u0002wich that’s being ordered. Call the function three times, using a different num\u0002ber of arguments each time"
      ],
      "metadata": {
        "id": "dRtNbc4s6xk0"
      }
    },
    {
      "cell_type": "code",
      "source": [
        "def make_sandwich (*items):\n",
        " \"\"\"Summarize the sandwich we are about to make.\"\"\"\n",
        " print(\"\\nMaking a sandwich with the following items:\")\n",
        " for item in items:\n",
        "  print(f\"- {item}\")\n",
        " \n",
        "make_sandwich ('Bread')\n",
        "make_sandwich('Butter','Cheese')\n",
        "make_sandwich ('Onion', 'green peppers', 'extra cheese') "
      ],
      "metadata": {
        "colab": {
          "base_uri": "https://localhost:8080/"
        },
        "id": "ILdjkR8o7Don",
        "outputId": "d5adbefe-eb0e-4281-c751-90e4f61a49c5"
      },
      "execution_count": null,
      "outputs": [
        {
          "output_type": "stream",
          "name": "stdout",
          "text": [
            "\n",
            "Making a sandwich with the following items:\n",
            "- Bread\n",
            "\n",
            "Making a sandwich with the following items:\n",
            "- Butter\n",
            "- Cheese\n",
            "\n",
            "Making a sandwich with the following items:\n",
            "- Onion\n",
            "- green peppers\n",
            "- extra cheese\n"
          ]
        }
      ]
    },
    {
      "cell_type": "markdown",
      "source": [
        " Start with a copy of user_profile.py from page 149. Build a \n",
        "profile of yourself by calling build_profile(), using your first and last names \n",
        "and three other key-value pairs that describe you."
      ],
      "metadata": {
        "id": "JZHeXn2x8gO7"
      }
    },
    {
      "cell_type": "code",
      "source": [
        "def build_profile(first, last, **user_info):\n",
        " \"\"\"Build a dictionary containing everything we know about a user.\"\"\"\n",
        " user_info['first_name'] = first\n",
        " user_info['last_name'] = last\n",
        " return user_info\n",
        "user_profile = build_profile('Vandita', 'Sharma', Field= 'CS', Hobbies='photography', passion='Teaching')\n",
        "print(user_profile)"
      ],
      "metadata": {
        "colab": {
          "base_uri": "https://localhost:8080/"
        },
        "id": "_qkN_73x8iHZ",
        "outputId": "8154b04b-5027-463c-ff4b-927f64fa1e8f"
      },
      "execution_count": null,
      "outputs": [
        {
          "output_type": "stream",
          "name": "stdout",
          "text": [
            "{'Field': 'CS', 'Hobbies': 'photography', 'passion': 'Teaching', 'first_name': 'Vandita', 'last_name': 'Sharma'}\n"
          ]
        }
      ]
    },
    {
      "cell_type": "markdown",
      "source": [
        "Write a function that stores information about a car in a diction\u0002ary. The function should always receive a manufacturer and a model name. It \n",
        "should then accept an arbitrary number of keyword arguments. Call the func\u0002tion with the required information and two other name-value pairs, such as a \n",
        "color or an optional feature. Your function should work for a call like this one:\n",
        "car = make_car('subaru', 'outback', color='blue', tow_package=True)\n",
        "Print the dictionary that’s returned to make sure all the information was \n",
        "stored correctly"
      ],
      "metadata": {
        "id": "or9t4mqL9qND"
      }
    },
    {
      "cell_type": "code",
      "source": [
        "def make_car(manufacturer, model, **car_info):\n",
        " \"\"\"Build a dictionary containing everything we know about a user.\"\"\"\n",
        " car_info['manufacturer_name'] = manufacturer\n",
        " car_info['model_name'] = model\n",
        " return car_info\n",
        "car = make_car('Tata Motors', 'Range Rover', color= 'Black' )\n",
        "print(car)"
      ],
      "metadata": {
        "colab": {
          "base_uri": "https://localhost:8080/"
        },
        "id": "4lZy7Ss39sMj",
        "outputId": "6ff3ebc7-4253-4d1f-a2f2-28dff9135016"
      },
      "execution_count": null,
      "outputs": [
        {
          "output_type": "stream",
          "name": "stdout",
          "text": [
            "{'color': 'Black', 'manufacturer_name': 'Tata Motors', 'model_name': 'Range Rover'}\n"
          ]
        }
      ]
    },
    {
      "cell_type": "markdown",
      "source": [
        "Styling Functions"
      ],
      "metadata": {
        "id": "QXOfYxQ9DUSE"
      }
    },
    {
      "cell_type": "code",
      "source": [
        "def function_name(parameter_0, parameter_1='default value') \n",
        "'''If you specify a default value for a parameter, no spaces should be used on either side of the equal sign:'''"
      ],
      "metadata": {
        "id": "QIKo3lLyGrqq"
      },
      "execution_count": null,
      "outputs": []
    },
    {
      "cell_type": "code",
      "source": [
        "function_name(value_0, parameter_1='value')\n",
        "#The same convention should be used for keyword arguments in func\u0002tion calls:"
      ],
      "metadata": {
        "id": "pVDJmx2PHLqN"
      },
      "execution_count": null,
      "outputs": []
    },
    {
      "cell_type": "code",
      "source": [
        "def function_name(\n",
        " parameter_0, parameter_1, parameter_2,\n",
        " parameter_3, parameter_4, parameter_5):\n",
        " function body... \n",
        " '''Most editors automatically line up any additional lines of parameters to \n",
        "match the indentation you have established on the first line'''"
      ],
      "metadata": {
        "id": "FXvE6VFXHTXk"
      },
      "execution_count": null,
      "outputs": []
    },
    {
      "cell_type": "code",
      "source": [
        ""
      ],
      "metadata": {
        "id": "BcDQIETDHy8Y"
      },
      "execution_count": null,
      "outputs": []
    },
    {
      "cell_type": "code",
      "source": [
        ""
      ],
      "metadata": {
        "id": "5u8V3AnMHoKI"
      },
      "execution_count": null,
      "outputs": []
    }
  ],
  "metadata": {
    "colab": {
      "collapsed_sections": [],
      "name": "Fun2.ipynb",
      "provenance": [],
      "toc_visible": true,
      "authorship_tag": "ABX9TyN701xyNntt8nsR+DU8A4qV",
      "include_colab_link": true
    },
    "kernelspec": {
      "display_name": "Python 3",
      "name": "python3"
    },
    "language_info": {
      "name": "python"
    }
  },
  "nbformat": 4,
  "nbformat_minor": 0
}