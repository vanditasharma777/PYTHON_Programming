{
  "nbformat": 4,
  "nbformat_minor": 0,
  "metadata": {
    "colab": {
      "name": "Fun1.ipynb",
      "provenance": [],
      "authorship_tag": "ABX9TyM8UGnDLxgbOgypeeAfhIPA",
      "include_colab_link": true
    },
    "kernelspec": {
      "name": "python3",
      "display_name": "Python 3"
    },
    "language_info": {
      "name": "python"
    }
  },
  "cells": [
    {
      "cell_type": "markdown",
      "metadata": {
        "id": "view-in-github",
        "colab_type": "text"
      },
      "source": [
        "<a href=\"https://colab.research.google.com/github/vanditasharma777/PYTHON_Programming/blob/main/Functions1.ipynb\" target=\"_parent\"><img src=\"https://colab.research.google.com/assets/colab-badge.svg\" alt=\"Open In Colab\"/></a>"
      ]
    },
    {
      "cell_type": "code",
      "execution_count": null,
      "metadata": {
        "colab": {
          "base_uri": "https://localhost:8080/"
        },
        "id": "4Ua5HsiIUYNc",
        "outputId": "4b51b7af-1bb5-4bf1-9434-1c5557b1618b"
      },
      "outputs": [
        {
          "output_type": "stream",
          "name": "stdout",
          "text": [
            "Functions\n"
          ]
        }
      ],
      "source": [
        "print(\"Functions\")"
      ]
    },
    {
      "cell_type": "code",
      "source": [
        "def f1(): \n",
        "  '''to prit a value'''\n",
        "  print(\"JRF\")\n",
        "f1()"
      ],
      "metadata": {
        "colab": {
          "base_uri": "https://localhost:8080/"
        },
        "id": "L4UaBot6VHwy",
        "outputId": "67fbe6ff-a4a8-4d04-9363-010622b553ff"
      },
      "execution_count": null,
      "outputs": [
        {
          "output_type": "stream",
          "name": "stdout",
          "text": [
            "JRF\n"
          ]
        }
      ]
    },
    {
      "cell_type": "markdown",
      "source": [
        " Functions are of 2 types \n",
        "1. User Defined \n",
        "2. Built-in"
      ],
      "metadata": {
        "id": "Nf0KwlbZYJfH"
      }
    },
    {
      "cell_type": "markdown",
      "source": [
        "1. abs() function:- It returns the absolute value of the specified number."
      ],
      "metadata": {
        "id": "cdfvWJbiY7G8"
      }
    },
    {
      "cell_type": "code",
      "source": [
        "x = abs(-4.5)\n",
        "x"
      ],
      "metadata": {
        "id": "QjIN_mglYoFr",
        "colab": {
          "base_uri": "https://localhost:8080/"
        },
        "outputId": "ace7528e-8598-41d1-9942-8d561629deb2"
      },
      "execution_count": null,
      "outputs": [
        {
          "output_type": "execute_result",
          "data": {
            "text/plain": [
              "4.5"
            ]
          },
          "metadata": {},
          "execution_count": 4
        }
      ]
    },
    {
      "cell_type": "code",
      "source": [
        "x = abs(3+5j)\n",
        "x"
      ],
      "metadata": {
        "colab": {
          "base_uri": "https://localhost:8080/"
        },
        "id": "04tGqsUGWNjz",
        "outputId": "461189d7-72ae-4453-ab0a-81b1e3b6a0bf"
      },
      "execution_count": null,
      "outputs": [
        {
          "output_type": "execute_result",
          "data": {
            "text/plain": [
              "5.830951894845301"
            ]
          },
          "metadata": {},
          "execution_count": 3
        }
      ]
    },
    {
      "cell_type": "markdown",
      "source": [
        "2. all():- Returns True if all items in an iterable are true, otherwise it will return  false."
      ],
      "metadata": {
        "id": "r6Dy_Se-SWaC"
      }
    },
    {
      "cell_type": "code",
      "source": [
        "List1 = [True,True, True]\n",
        "x = all(List1)\n",
        "x"
      ],
      "metadata": {
        "colab": {
          "base_uri": "https://localhost:8080/"
        },
        "id": "TkebcJRHXGCC",
        "outputId": "bbbbfa8d-ae03-4af4-bbfd-6a0c72a5ec73"
      },
      "execution_count": null,
      "outputs": [
        {
          "output_type": "execute_result",
          "data": {
            "text/plain": [
              "True"
            ]
          },
          "metadata": {},
          "execution_count": 8
        }
      ]
    },
    {
      "cell_type": "markdown",
      "source": [
        "3. ascii():- It returns a readable version  of any object(strings, tuples, Lists etc)."
      ],
      "metadata": {
        "id": "9Aj4pdJTXg07"
      }
    },
    {
      "cell_type": "code",
      "source": [
        "y = ascii(\"I'm I$dia'\")\n",
        "y"
      ],
      "metadata": {
        "colab": {
          "base_uri": "https://localhost:8080/",
          "height": 35
        },
        "id": "3AUaxq1YX-Qo",
        "outputId": "c77f317c-be78-437c-e155-ebd4ebfd3fd5"
      },
      "execution_count": null,
      "outputs": [
        {
          "output_type": "execute_result",
          "data": {
            "text/plain": [
              "'\"I\\'m I$dia\\'\"'"
            ],
            "application/vnd.google.colaboratory.intrinsic+json": {
              "type": "string"
            }
          },
          "metadata": {},
          "execution_count": 14
        }
      ]
    },
    {
      "cell_type": "markdown",
      "source": [
        "4. bool():- returns boolean value of a specified function."
      ],
      "metadata": {
        "id": "MpmtCZCGq12M"
      }
    },
    {
      "cell_type": "code",
      "source": [
        "a = bool(1)\n",
        "c = bool(0)\n",
        "a, c"
      ],
      "metadata": {
        "colab": {
          "base_uri": "https://localhost:8080/"
        },
        "id": "kLeNWGhfrGDd",
        "outputId": "304c586f-b6d2-4cc9-aad5-336814ce0637"
      },
      "execution_count": null,
      "outputs": [
        {
          "output_type": "execute_result",
          "data": {
            "text/plain": [
              "(True, False)"
            ]
          },
          "metadata": {},
          "execution_count": 17
        }
      ]
    },
    {
      "cell_type": "markdown",
      "source": [
        "5. enumerate() :- takes a collection(eg.tuple) and returns it as an enumerate object."
      ],
      "metadata": {
        "id": "nMx3DS57rgEJ"
      }
    },
    {
      "cell_type": "code",
      "source": [
        "a1 = ('apple', 'grapes', 'cherry')\n",
        "y = list(enumerate(a1))\n",
        "y"
      ],
      "metadata": {
        "colab": {
          "base_uri": "https://localhost:8080/"
        },
        "id": "YlV3hWlrr8BL",
        "outputId": "a99e1193-14be-4f0b-bfdb-baca3df717b1"
      },
      "execution_count": null,
      "outputs": [
        {
          "output_type": "execute_result",
          "data": {
            "text/plain": [
              "[(0, 'apple'), (1, 'grapes'), (2, 'cherry')]"
            ]
          },
          "metadata": {},
          "execution_count": 34
        }
      ]
    },
    {
      "cell_type": "markdown",
      "source": [
        "6. **format():**- It formats a specified value into a specified format.\n",
        "\n",
        "1.:<\t\tLeft aligns the result (within the available space)\n",
        "2. :>\t\tRight aligns the result (within the available space)\n",
        "3. :^\t\tCenter aligns the result (within the available space)\n",
        "4. :=\t\tPlaces the sign to the left most position\n",
        "5. :+\t\tUse a plus sign to indicate if the result is positive or negative\n",
        "6. :-\t\tUse a minus sign for negative values only\n",
        "7. : \t\tUse a space to insert an extra space before positive numbers (and a minus sign before negative numbers)\n",
        "8. :,\t\tUse a comma as a thousand separator\n",
        "9. :_\t\tUse a underscore as a thousand separator\n",
        "10. :b\t\tBinary format\n",
        "11. :c\t\tConverts the value into the corresponding unicode character\n",
        "12. :d\t\tDecimal format\n",
        "13. :e\t\tScientific format, with a lower case e\n",
        "14. :E\t\tScientific format, with an upper case E\n",
        "15. :f\t\tFix point number format\n",
        "16. :F\t\tFix point number format, in uppercase format (show inf and nan as INF and NAN)\n",
        "17. :g\t\tGeneral format\n",
        "18. :G\t\tGeneral format (using a upper case E for scientific notations)\n",
        "19. :o\t\tOctal format\n",
        "20. :x\t\tHex format, lower case21\n",
        "21. :X\t\tHex format, upper case\n",
        "22. :n\t\tNumber format\n",
        "23. :%\t\tPercentage format"
      ],
      "metadata": {
        "id": "0mEzUwZ5tz7P"
      }
    },
    {
      "cell_type": "code",
      "source": [
        "p = format(0.5, \"%\")\n",
        "p"
      ],
      "metadata": {
        "colab": {
          "base_uri": "https://localhost:8080/",
          "height": 35
        },
        "id": "rxhABZk9uN9C",
        "outputId": "26b29e1a-52d0-4175-d011-8f3f2d2f1d2a"
      },
      "execution_count": null,
      "outputs": [
        {
          "output_type": "execute_result",
          "data": {
            "text/plain": [
              "'50.000000%'"
            ],
            "application/vnd.google.colaboratory.intrinsic+json": {
              "type": "string"
            }
          },
          "metadata": {},
          "execution_count": 35
        }
      ]
    },
    {
      "cell_type": "markdown",
      "source": [
        "**7. i. getattr():-** returns the value of the specified attribute from the specified object.\n",
        "**ii. setattr():-** sets the value of the specified attribute of the specified object."
      ],
      "metadata": {
        "id": "KCPEtKArxnm0"
      }
    },
    {
      "cell_type": "code",
      "source": [
        "class person:\n",
        "  name = \"JRF\"\n",
        "  age = \"25\"\n",
        "  Country = \"India\"\n",
        "x1 = getattr(person, 'age')\n",
        "x1\n"
      ],
      "metadata": {
        "colab": {
          "base_uri": "https://localhost:8080/",
          "height": 35
        },
        "id": "9sqdHSLvumJ6",
        "outputId": "8594e706-4b97-412c-8bbc-1b5a009b152b"
      },
      "execution_count": null,
      "outputs": [
        {
          "output_type": "execute_result",
          "data": {
            "text/plain": [
              "'25'"
            ],
            "application/vnd.google.colaboratory.intrinsic+json": {
              "type": "string"
            }
          },
          "metadata": {},
          "execution_count": 35
        }
      ]
    },
    {
      "cell_type": "code",
      "source": [
        "class person:\n",
        "  name = \"JRF\"\n",
        "  age = 25\n",
        "  Country = \"India\"\n",
        "s1 = setattr(person, 'age', 21)\n",
        "print(s1)"
      ],
      "metadata": {
        "colab": {
          "base_uri": "https://localhost:8080/"
        },
        "id": "VzAAHkx9NnKn",
        "outputId": "11234067-e6f3-41cf-e0bf-283b7d1d044e"
      },
      "execution_count": null,
      "outputs": [
        {
          "output_type": "stream",
          "name": "stdout",
          "text": [
            "None\n"
          ]
        }
      ]
    },
    {
      "cell_type": "markdown",
      "source": [
        "**8. id()** :- it returns a unique id for the specified object."
      ],
      "metadata": {
        "id": "XzBbrVlZ0vn_"
      }
    },
    {
      "cell_type": "code",
      "source": [
        "x2 = {'1','2','3','4'}\n",
        "id(3), id(2)"
      ],
      "metadata": {
        "colab": {
          "base_uri": "https://localhost:8080/"
        },
        "id": "p4CIM0Fv1Nrq",
        "outputId": "b7f53af0-8e66-4daa-ce43-610206be259a"
      },
      "execution_count": null,
      "outputs": [
        {
          "output_type": "execute_result",
          "data": {
            "text/plain": [
              "(11256128, 11256096)"
            ]
          },
          "metadata": {},
          "execution_count": 40
        }
      ]
    },
    {
      "cell_type": "markdown",
      "source": [
        "**9. len():-** returns the number of items in an object."
      ],
      "metadata": {
        "id": "bEvfrVzw1vbv"
      }
    },
    {
      "cell_type": "code",
      "source": [
        "x3 = ('2','4','6','8','10','12')\n",
        "len(x3), len('Hello')\n"
      ],
      "metadata": {
        "colab": {
          "base_uri": "https://localhost:8080/"
        },
        "id": "FKAHv0471-B5",
        "outputId": "5587df7e-4aba-4208-ef83-2324ff38ab04"
      },
      "execution_count": null,
      "outputs": [
        {
          "output_type": "execute_result",
          "data": {
            "text/plain": [
              "(6, 5)"
            ]
          },
          "metadata": {},
          "execution_count": 42
        }
      ]
    },
    {
      "cell_type": "markdown",
      "source": [
        "**10. map():**- It executes a specified function for each item in a iterable. The item is send to the function as a parameter."
      ],
      "metadata": {
        "id": "gaVtoyJs2XD7"
      }
    },
    {
      "cell_type": "code",
      "source": [
        "def myf(n):\n",
        "  return len(n)\n",
        "x5 = map(myf,['hello','calm','pretty'])\n",
        "print(list(x5))"
      ],
      "metadata": {
        "colab": {
          "base_uri": "https://localhost:8080/"
        },
        "id": "-UUyedex20v6",
        "outputId": "d1fa0383-ac8e-4c35-ec34-438eaf6a03f4"
      },
      "execution_count": null,
      "outputs": [
        {
          "output_type": "stream",
          "name": "stdout",
          "text": [
            "[5, 4, 6]\n"
          ]
        }
      ]
    },
    {
      "cell_type": "markdown",
      "source": [
        "**11. min():-** It returns the item with lowest value, or the item with the lowest value in an iterable."
      ],
      "metadata": {
        "id": "AGPw5n9aH3T1"
      }
    },
    {
      "cell_type": "code",
      "source": [
        "x6 = min('a','b','c','1','2')\n",
        "x7 = min('a','e','i','o','u')\n",
        "x6,x7"
      ],
      "metadata": {
        "colab": {
          "base_uri": "https://localhost:8080/"
        },
        "id": "gnS22UJ5Jfkr",
        "outputId": "8a6ec64f-d7cb-46bc-8325-a899a837687e"
      },
      "execution_count": null,
      "outputs": [
        {
          "output_type": "execute_result",
          "data": {
            "text/plain": [
              "('1', 'a')"
            ]
          },
          "metadata": {},
          "execution_count": 15
        }
      ]
    },
    {
      "cell_type": "markdown",
      "source": [
        "12.pow():- It returns the value of x power to y(x^y)."
      ],
      "metadata": {
        "id": "J7NO7JN7KXel"
      }
    },
    {
      "cell_type": "code",
      "source": [
        "pow(3,4)"
      ],
      "metadata": {
        "colab": {
          "base_uri": "https://localhost:8080/"
        },
        "id": "LGA-6INTKqMp",
        "outputId": "20a0853c-9077-4113-b346-d27aba86ad3c"
      },
      "execution_count": null,
      "outputs": [
        {
          "output_type": "execute_result",
          "data": {
            "text/plain": [
              "81"
            ]
          },
          "metadata": {},
          "execution_count": 16
        }
      ]
    },
    {
      "cell_type": "code",
      "source": [
        "pow(2,3,3) #if there are 3 parameters, it will return (x^y)%z"
      ],
      "metadata": {
        "colab": {
          "base_uri": "https://localhost:8080/"
        },
        "id": "cGHi89opKw3o",
        "outputId": "12717229-5a23-4b72-b955-3f5e9b3accdf"
      },
      "execution_count": null,
      "outputs": [
        {
          "output_type": "execute_result",
          "data": {
            "text/plain": [
              "2"
            ]
          },
          "metadata": {},
          "execution_count": 17
        }
      ]
    },
    {
      "cell_type": "markdown",
      "source": [
        "**12. print():-** It print the specified message to the screen or standard output device."
      ],
      "metadata": {
        "id": "abCsXgnoLG_g"
      }
    },
    {
      "cell_type": "code",
      "source": [
        "print(\"Hello World\")"
      ],
      "metadata": {
        "colab": {
          "base_uri": "https://localhost:8080/"
        },
        "id": "p2cUICfULvNL",
        "outputId": "e540a626-78f1-4671-d019-fedef5c1797c"
      },
      "execution_count": null,
      "outputs": [
        {
          "output_type": "stream",
          "name": "stdout",
          "text": [
            "Hello World\n"
          ]
        }
      ]
    },
    {
      "cell_type": "markdown",
      "source": [
        "**13. Sorted():-** It returns a sorted list of specified iterable object."
      ],
      "metadata": {
        "id": "dTG4RGb2c9rA"
      }
    },
    {
      "cell_type": "code",
      "source": [
        "x8 = ['a','g','j','w','u','l','q','s']\n",
        "x9 = sorted(x8) \n",
        "print(x9)"
      ],
      "metadata": {
        "colab": {
          "base_uri": "https://localhost:8080/"
        },
        "id": "g2hOl4RqdYiP",
        "outputId": "ff0caec5-e266-4fb1-dcab-c90e91cda98b"
      },
      "execution_count": null,
      "outputs": [
        {
          "output_type": "stream",
          "name": "stdout",
          "text": [
            "['a', 'g', 'j', 'l', 'q', 's', 'u', 'w']\n"
          ]
        }
      ]
    },
    {
      "cell_type": "markdown",
      "source": [
        "14. type():- It returns type of the specified object.\n"
      ],
      "metadata": {
        "id": "XSjMnBA8I3V3"
      }
    },
    {
      "cell_type": "code",
      "source": [
        "a = ('1','2','3','4','5')\n",
        "c = \"GoToHell\"\n",
        "d = 34\n",
        "type(a), type(c), type(d)"
      ],
      "metadata": {
        "colab": {
          "base_uri": "https://localhost:8080/"
        },
        "id": "_TQ6k_OfJI_9",
        "outputId": "e6d61331-f3bd-489d-a123-0ef64c5e7410"
      },
      "execution_count": null,
      "outputs": [
        {
          "output_type": "execute_result",
          "data": {
            "text/plain": [
              "(tuple, str, int)"
            ]
          },
          "metadata": {},
          "execution_count": 5
        }
      ]
    },
    {
      "cell_type": "markdown",
      "source": [
        "*`*USER DEFINED FUNCTION *\n",
        "\n",
        "\n",
        "\n",
        "\n",
        "\n"
      ],
      "metadata": {
        "id": "8rnUSFJNKaB_"
      }
    },
    {
      "cell_type": "code",
      "source": [
        "def myf1(x):\n",
        "   return (x*5)\n",
        "print(myf1(3))"
      ],
      "metadata": {
        "colab": {
          "base_uri": "https://localhost:8080/"
        },
        "id": "sdNa72suK4Jg",
        "outputId": "a03128c4-cf73-4a41-96d7-e16bb1659ea7"
      },
      "execution_count": null,
      "outputs": [
        {
          "output_type": "stream",
          "name": "stdout",
          "text": [
            "15\n"
          ]
        }
      ]
    }
  ]
}